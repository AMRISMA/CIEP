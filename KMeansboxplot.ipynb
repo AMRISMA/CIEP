{
  "nbformat": 4,
  "nbformat_minor": 0,
  "metadata": {
    "colab": {
      "name": "KMeans.ipynb",
      "provenance": [],
      "authorship_tag": "ABX9TyOdw88QFa8vcvxfCHsxJGpQ",
      "include_colab_link": true
    },
    "kernelspec": {
      "name": "python3",
      "display_name": "Python 3"
    },
    "language_info": {
      "name": "python"
    }
  },
  "cells": [
    {
      "cell_type": "markdown",
      "metadata": {
        "id": "view-in-github",
        "colab_type": "text"
      },
      "source": [
        "<a href=\"https://colab.research.google.com/github/AMRISMA/DataScience/blob/master/KMeansboxplot.ipynb\" target=\"_parent\"><img src=\"https://colab.research.google.com/assets/colab-badge.svg\" alt=\"Open In Colab\"/></a>"
      ]
    },
    {
      "cell_type": "code",
      "execution_count": 1,
      "metadata": {
        "colab": {
          "base_uri": "https://localhost:8080/",
          "height": 370
        },
        "id": "rUir3sGD-RPU",
        "outputId": "aff087f8-d270-4942-b399-f39ad1c75e61"
      },
      "outputs": [
        {
          "output_type": "stream",
          "name": "stdout",
          "text": [
            "[  0   7   4   3   0   4   2   7   6 100   1   3   0   3 100 100 100 100\n",
            "   4   0   3   6   6   6 100   7   6 100 100   6   3   6   1   6   0]\n"
          ]
        },
        {
          "output_type": "display_data",
          "data": {
            "text/plain": [
              "<Figure size 432x360 with 1 Axes>"
            ],
            "image/png": "[encoded data removed]"
          },
          "metadata": {
            "needs_background": "light"
          }
        }
      ],
      "source": [
        "# import packages\n",
        "import numpy as np \n",
        "import matplotlib.pyplot as plt\n",
        "\n",
        "# Create sample data\n",
        "np.random.seed(102)\n",
        "grades = np.concatenate([[50,52,53,55,56,60,61,62,65,67]*20, np.random.randint(0, 101, size=300)])\n",
        "\n",
        "# IQR\n",
        "# Find Q1, Q3\n",
        "# 1.\n",
        "Q1 = np.percentile(grades , 25)\n",
        "Q3 = np.percentile(grades , 75)\n",
        "\n",
        "# 2.\n",
        "Q1,Q3 = np.percentile(grades , [25,75])\n",
        "\n",
        "# Find IQR, upper limit, lower limit\n",
        "IQR = Q3 - Q1\n",
        "ul = Q3+1.5*IQR\n",
        "ll = Q1-1.5*IQR\n",
        "\n",
        "# Find outliers\n",
        "outliers = grades[(grades > ul) | (grades < ll)]\n",
        "print(outliers)\n",
        "\n",
        "# Box plot\n",
        "fig = plt.figure(figsize=(6,5))\n",
        "hypo = np.random.randint(20, 81, size=500)\n",
        "plt.boxplot([grades, hypo], widths=0.5)\n",
        "plt.xticks([1,2],['Our data', 'Hypothetical data'])\n",
        "plt.ylabel('Grade')\n",
        "plt.title('Box plot of midterm grade')\n",
        "plt.show()\n"
      ]
    }
  ]
}