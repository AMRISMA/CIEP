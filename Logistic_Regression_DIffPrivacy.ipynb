{
  "nbformat": 4,
  "nbformat_minor": 0,
  "metadata": {
    "colab": {
      "name": "Kaggle_Logistic_Regression.ipynb",
      "provenance": [],
      "include_colab_link": true
    },
    "kernelspec": {
      "name": "python3",
      "display_name": "Python 3"
    },
    "language_info": {
      "name": "python"
    }
  },
  "cells": [
    {
      "cell_type": "markdown",
      "metadata": {
        "id": "view-in-github",
        "colab_type": "text"
      },
      "source": [
        "<a href=\"https://colab.research.google.com/github/AMRISMA/DataScience/blob/master/Logistic_Regression_DIffPrivacy.ipynb\" target=\"_parent\"><img src=\"https://colab.research.google.com/assets/colab-badge.svg\" alt=\"Open In Colab\"/></a>"
      ]
    },
    {
      "cell_type": "code",
      "execution_count": 1,
      "metadata": {
        "id": "Z3-a7n7hK1ty"
      },
      "outputs": [],
      "source": [
        "import pandas as pd\n",
        "df = pd.read_csv(\"https://archive.ics.uci.edu/ml/machine-learning-databases/adult/adult.data\") #Import dataset"
      ]
    },
    {
      "cell_type": "code",
      "source": [
        "!pip install diffprivlib\n",
        "\n",
        "import diffprivlib.models as dp\n",
        "import numpy as np\n",
        "from sklearn.linear_model import LogisticRegression\n",
        "\n",
        "from sklearn.pipeline import Pipeline\n",
        "from sklearn.preprocessing import MinMaxScaler\n",
        "\n",
        "from sklearn.metrics import accuracy_score"
      ],
      "metadata": {
        "colab": {
          "base_uri": "https://localhost:8080/"
        },
        "id": "lrRp2VR1NcPM",
        "outputId": "f747268f-124c-4f6f-ad59-9371feba2111"
      },
      "execution_count": 2,
      "outputs": [
        {
          "output_type": "stream",
          "name": "stdout",
          "text": [
            "Looking in indexes: https://pypi.org/simple, https://us-python.pkg.dev/colab-wheels/public/simple/\n",
            "Collecting diffprivlib\n",
            "  Downloading diffprivlib-0.5.2-py3-none-any.whl (167 kB)\n",
            "\u001b[K     |████████████████████████████████| 167 kB 10.0 MB/s \n",
            "\u001b[?25hRequirement already satisfied: numpy>=1.19.0 in /usr/local/lib/python3.7/dist-packages (from diffprivlib) (1.21.6)\n",
            "Requirement already satisfied: scipy>=1.5.0 in /usr/local/lib/python3.7/dist-packages (from diffprivlib) (1.7.3)\n",
            "Requirement already satisfied: joblib>=0.16.0 in /usr/local/lib/python3.7/dist-packages (from diffprivlib) (1.1.0)\n",
            "Collecting crlibm>=1.0.3\n",
            "  Downloading crlibm-1.0.3.tar.gz (1.6 MB)\n",
            "\u001b[K     |████████████████████████████████| 1.6 MB 51.3 MB/s \n",
            "\u001b[?25hRequirement already satisfied: scikit-learn>=0.23.0 in /usr/local/lib/python3.7/dist-packages (from diffprivlib) (1.0.2)\n",
            "Requirement already satisfied: setuptools>=49.0.0 in /usr/local/lib/python3.7/dist-packages (from diffprivlib) (57.4.0)\n",
            "Requirement already satisfied: threadpoolctl>=2.0.0 in /usr/local/lib/python3.7/dist-packages (from scikit-learn>=0.23.0->diffprivlib) (3.1.0)\n",
            "Building wheels for collected packages: crlibm\n",
            "  Building wheel for crlibm (setup.py) ... \u001b[?25l\u001b[?25hdone\n",
            "  Created wheel for crlibm: filename=crlibm-1.0.3-cp37-cp37m-linux_x86_64.whl size=175324 sha256=f3352e04ebed0a7424a1cab7d3c000f69b772badb66f312504541ecd0ed51035\n",
            "  Stored in directory: /root/.cache/pip/wheels/d5/49/76/c2047e63fe9162b0b156dd4c0656b5ee1e3d8a2d6cfc56132c\n",
            "Successfully built crlibm\n",
            "Installing collected packages: crlibm, diffprivlib\n",
            "Successfully installed crlibm-1.0.3 diffprivlib-0.5.2\n"
          ]
        }
      ]
    },
    {
      "cell_type": "code",
      "source": [
        "X_train = np.loadtxt(\"https://archive.ics.uci.edu/ml/machine-learning-databases/adult/adult.data\",\n",
        "                        usecols=(0, 4, 10, 11, 12), delimiter=\", \") # only use integer features for training\n",
        "\n",
        "y_train = np.loadtxt(\"https://archive.ics.uci.edu/ml/machine-learning-databases/adult/adult.data\",\n",
        "                        usecols=14, dtype=str, delimiter=\", \") # set last column as prediction label\n",
        "np.unique(y_train)"
      ],
      "metadata": {
        "id": "ulOzxN3zK8ML",
        "colab": {
          "base_uri": "https://localhost:8080/"
        },
        "outputId": "af5baa39-1904-4a27-b06c-303b96100fd5"
      },
      "execution_count": 3,
      "outputs": [
        {
          "output_type": "execute_result",
          "data": {
            "text/plain": [
              "array(['<=50K', '>50K'], dtype='<U5')"
            ]
          },
          "metadata": {},
          "execution_count": 3
        }
      ]
    },
    {
      "cell_type": "code",
      "source": [
        "X_test = np.loadtxt(\"https://archive.ics.uci.edu/ml/machine-learning-databases/adult/adult.test\",\n",
        "                        usecols=(0, 4, 10, 11, 12), delimiter=\", \", skiprows=1)\n",
        "\n",
        "y_test = np.loadtxt(\"https://archive.ics.uci.edu/ml/machine-learning-databases/adult/adult.test\",\n",
        "                        usecols=14, dtype=str, delimiter=\", \", skiprows=1)\n",
        "\n",
        "y_test = np.array([a[:-1] for a in y_test]) # Must trim trailing period \".\" from label\n",
        "\n",
        "np.unique(y_test)"
      ],
      "metadata": {
        "id": "g9BHjo-2K-cc",
        "colab": {
          "base_uri": "https://localhost:8080/"
        },
        "outputId": "1a921c1e-4f40-4570-e74c-b0201e3dcfe4"
      },
      "execution_count": 4,
      "outputs": [
        {
          "output_type": "execute_result",
          "data": {
            "text/plain": [
              "array(['<=50K', '>50K'], dtype='<U5')"
            ]
          },
          "metadata": {},
          "execution_count": 4
        }
      ]
    },
    {
      "cell_type": "code",
      "source": [
        "logreg = Pipeline([\n",
        "    ('scaler', MinMaxScaler()), # scale min max of features to better fit sigmoid curve, control norm of data\n",
        "    ('clf', LogisticRegression(solver=\"lbfgs\")) # this process is smoothen by using pipeline in sklearn\n",
        "])"
      ],
      "metadata": {
        "id": "VptbHkRgLA1U"
      },
      "execution_count": 5,
      "outputs": []
    },
    {
      "cell_type": "code",
      "source": [
        "logreg.fit(X_train, y_train)\n",
        "\n",
        "print(\"Vanilla test accuracy: %.2f%%\" % (accuracy_score(y_test, logreg.predict(X_test)) * 100))"
      ],
      "metadata": {
        "id": "sv1jX2a8LDJG",
        "colab": {
          "base_uri": "https://localhost:8080/"
        },
        "outputId": "d6958c40-65b4-49cd-9c4b-9770ac479cad"
      },
      "execution_count": 6,
      "outputs": [
        {
          "output_type": "stream",
          "name": "stdout",
          "text": [
            "Vanilla test accuracy: 81.04%\n"
          ]
        }
      ]
    },
    {
      "cell_type": "code",
      "source": [
        "dp_logreg = Pipeline([\n",
        "    ('scaler', MinMaxScaler()),\n",
        "    ('clf', dp.LogisticRegression())\n",
        "])\n",
        "\n",
        "dp_logreg.fit(X_train, y_train)\n",
        "\n",
        "print(\"Differentially private test accuracy (epsilon=%.2f): %.2f%%\" % \n",
        "     (dp_logreg['clf'].epsilon, accuracy_score(y_test, dp_logreg.predict(X_test)) * 100))"
      ],
      "metadata": {
        "id": "uGM9wBu9LFcJ",
        "colab": {
          "base_uri": "https://localhost:8080/"
        },
        "outputId": "56d5aa56-cf56-49c2-fb8f-c748ee96afb4"
      },
      "execution_count": 7,
      "outputs": [
        {
          "output_type": "stream",
          "name": "stdout",
          "text": [
            "Differentially private test accuracy (epsilon=1.00): 80.82%\n"
          ]
        },
        {
          "output_type": "stream",
          "name": "stderr",
          "text": [
            "/usr/local/lib/python3.7/dist-packages/diffprivlib/models/logistic_regression.py:223: PrivacyLeakWarning: Data norm has not been specified and will be calculated on the data provided.  This will result in additional privacy leakage. To ensure differential privacy and no additional privacy leakage, specify `data_norm` at initialisation.\n",
            "  \"privacy leakage, specify `data_norm` at initialisation.\", PrivacyLeakWarning)\n"
          ]
        }
      ]
    },
    {
      "cell_type": "code",
      "source": [
        "dp_logreg = Pipeline([\n",
        "    ('scaler', MinMaxScaler()),\n",
        "    ('clf', dp.LogisticRegression(epsilon=float(\"inf\"), data_norm=2))\n",
        "])\n",
        "\n",
        "dp_logreg.fit(X_train, y_train)\n",
        "\n",
        "print(\"Similarity between vanilla and differentially private (epsilon=inf) classifiers: %.2f%%\" % \n",
        "     (accuracy_score(logreg.predict(X_test), dp_logreg.predict(X_test)) * 100))"
      ],
      "metadata": {
        "id": "XlkxzTmbLHtx",
        "colab": {
          "base_uri": "https://localhost:8080/"
        },
        "outputId": "19b604f7-d789-4085-fa80-910e2d2eef33"
      },
      "execution_count": 8,
      "outputs": [
        {
          "output_type": "stream",
          "name": "stdout",
          "text": [
            "Similarity between vanilla and differentially private (epsilon=inf) classifiers: 100.00%\n"
          ]
        }
      ]
    },
    {
      "cell_type": "code",
      "source": [
        "accuracy = [accuracy_score(y_test, logreg.predict(X_test))]\n",
        "epsilons = np.logspace(-3, 1, 500)\n",
        "\n",
        "for eps in epsilons:\n",
        "    dp_logreg.set_params(clf__epsilon=eps).fit(X_train, y_train)\n",
        "    accuracy.append(accuracy_score(y_test, dp_logreg.predict(X_test)))\n"
      ],
      "metadata": {
        "id": "DvRROtdjLKPN"
      },
      "execution_count": 9,
      "outputs": []
    },
    {
      "cell_type": "code",
      "source": [
        "import pickle # result is saved using pickle so as to be use for plotting graph\n",
        "import matplotlib.pyplot as plt\n",
        "\n",
        "pickle.dump((epsilons, accuracy), open(\"logreg_accuracy_500.p\", \"wb\" ) )\n",
        "\n",
        "epsilons, accuracy = pickle.load(open(\"logreg_accuracy_500.p\", \"rb\"))\n",
        "\n",
        "plt.semilogx(epsilons, accuracy[1:], label=\"Differentially private\")\n",
        "plt.plot(epsilons, np.ones_like(epsilons) * accuracy[0], dashes=[2,2], label=\"Vanilla\")\n",
        "plt.title(\"Differentially private logistic regression accuracy\")\n",
        "plt.xlabel(\"epsilon\")\n",
        "plt.ylabel(\"Accuracy\")\n",
        "plt.ylim(0, 1)\n",
        "plt.xlim(epsilons[0], epsilons[-1])\n",
        "plt.legend(loc=4)\n",
        "plt.show()"
      ],
      "metadata": {
        "id": "uvkpir6xLOqd",
        "colab": {
          "base_uri": "https://localhost:8080/",
          "height": 299
        },
        "outputId": "1cd2855e-bfc4-4770-cbc7-94ede95c8f4d"
      },
      "execution_count": 10,
      "outputs": [
        {
          "output_type": "display_data",
          "data": {
            "text/plain": [
              "<Figure size 432x288 with 1 Axes>"
            ],
            "image/png": "[encoded data removed]"
          },
          "metadata": {
            "needs_background": "light"
          }
        }
      ]
    },
    {
      "cell_type": "code",
      "source": [
        ""
      ],
      "metadata": {
        "id": "iautX9LVLPx6"
      },
      "execution_count": null,
      "outputs": []
    }
  ]
}