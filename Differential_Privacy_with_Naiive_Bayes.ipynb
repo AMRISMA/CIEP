{
  "nbformat": 4,
  "nbformat_minor": 0,
  "metadata": {
    "colab": {
      "name": "Differential Privacy with Naiive Bayes.ipynb",
      "provenance": [],
      "collapsed_sections": [],
      "authorship_tag": "ABX9TyOiup6MaC1EALi67cghbr5p",
      "include_colab_link": true
    },
    "kernelspec": {
      "name": "python3",
      "display_name": "Python 3"
    },
    "language_info": {
      "name": "python"
    }
  },
  "cells": [
    {
      "cell_type": "markdown",
      "metadata": {
        "id": "view-in-github",
        "colab_type": "text"
      },
      "source": [
        "<a href=\"https://colab.research.google.com/github/AMRISMA/DataScience/blob/master/Differential_Privacy_with_Naiive_Bayes.ipynb\" target=\"_parent\"><img src=\"https://colab.research.google.com/assets/colab-badge.svg\" alt=\"Open In Colab\"/></a>"
      ]
    },
    {
      "cell_type": "code",
      "execution_count": 2,
      "metadata": {
        "id": "RO1YEF7Y5WOe"
      },
      "outputs": [],
      "source": [
        "import numpy as np\n",
        " \n",
        "X_train = np.loadtxt(\"https://archive.ics.uci.edu/ml/machine-learning-databases/adult/adult.data\", usecols=(0, 4, 10, 11, 12), delimiter=\", \")\n",
        " \n",
        "y_train = np.loadtxt(\"https://archive.ics.uci.edu/ml/machine-learning-databases/adult/adult.data\", usecols=14, dtype=str, delimiter=\", \")\n",
        " \n",
        "X_test = np.loadtxt(\"https://archive.ics.uci.edu/ml/machine-learning-databases/adult/adult.test\", usecols=(0, 4, 10, 11, 12), delimiter=\", \", skiprows=1)\n",
        " \n",
        "y_test = np.loadtxt(\"https://archive.ics.uci.edu/ml/machine-learning-databases/adult/adult.test\", usecols=14, dtype=str, delimiter=\", \", skiprows=1)\n",
        "y_test = np.array([a[:-1] for a in y_test])"
      ]
    },
    {
      "cell_type": "code",
      "source": [
        "X_train"
      ],
      "metadata": {
        "colab": {
          "base_uri": "https://localhost:8080/"
        },
        "id": "IW-GGUnV5oin",
        "outputId": "2bad69ed-2c39-4f9a-b7b4-93e557cea613"
      },
      "execution_count": 5,
      "outputs": [
        {
          "output_type": "execute_result",
          "data": {
            "text/plain": [
              "array([[3.9000e+01, 1.3000e+01, 2.1740e+03, 0.0000e+00, 4.0000e+01],\n",
              "       [5.0000e+01, 1.3000e+01, 0.0000e+00, 0.0000e+00, 1.3000e+01],\n",
              "       [3.8000e+01, 9.0000e+00, 0.0000e+00, 0.0000e+00, 4.0000e+01],\n",
              "       ...,\n",
              "       [5.8000e+01, 9.0000e+00, 0.0000e+00, 0.0000e+00, 4.0000e+01],\n",
              "       [2.2000e+01, 9.0000e+00, 0.0000e+00, 0.0000e+00, 2.0000e+01],\n",
              "       [5.2000e+01, 9.0000e+00, 1.5024e+04, 0.0000e+00, 4.0000e+01]])"
            ]
          },
          "metadata": {},
          "execution_count": 5
        }
      ]
    },
    {
      "cell_type": "code",
      "source": [
        "y_train"
      ],
      "metadata": {
        "colab": {
          "base_uri": "https://localhost:8080/"
        },
        "id": "-di0InZE5t2M",
        "outputId": "e5118d3e-36e6-438f-f38c-569f958fedf9"
      },
      "execution_count": 6,
      "outputs": [
        {
          "output_type": "execute_result",
          "data": {
            "text/plain": [
              "array(['<=50K', '<=50K', '<=50K', ..., '<=50K', '<=50K', '>50K'],\n",
              "      dtype='<U5')"
            ]
          },
          "metadata": {},
          "execution_count": 6
        }
      ]
    },
    {
      "cell_type": "code",
      "source": [
        "X_test"
      ],
      "metadata": {
        "colab": {
          "base_uri": "https://localhost:8080/"
        },
        "id": "3d2zFZAI50uL",
        "outputId": "3f12dcfe-1bf5-4ab0-bf9a-e28b96dd2af7"
      },
      "execution_count": 7,
      "outputs": [
        {
          "output_type": "execute_result",
          "data": {
            "text/plain": [
              "array([[  25.,    7.,    0.,    0.,   40.],\n",
              "       [  38.,    9.,    0.,    0.,   50.],\n",
              "       [  28.,   12.,    0.,    0.,   40.],\n",
              "       ...,\n",
              "       [  38.,   13.,    0.,    0.,   50.],\n",
              "       [  44.,   13., 5455.,    0.,   40.],\n",
              "       [  35.,   13.,    0.,    0.,   60.]])"
            ]
          },
          "metadata": {},
          "execution_count": 7
        }
      ]
    },
    {
      "cell_type": "code",
      "source": [
        "y_test"
      ],
      "metadata": {
        "colab": {
          "base_uri": "https://localhost:8080/"
        },
        "id": "E5cDWRh55583",
        "outputId": "08a75045-1c1e-40eb-d8a5-5413e91bb6e5"
      },
      "execution_count": 8,
      "outputs": [
        {
          "output_type": "execute_result",
          "data": {
            "text/plain": [
              "array(['<=50K', '<=50K', '>50K', ..., '<=50K', '<=50K', '>50K'],\n",
              "      dtype='<U5')"
            ]
          },
          "metadata": {},
          "execution_count": 8
        }
      ]
    },
    {
      "cell_type": "code",
      "source": [
        "from sklearn.naive_bayes import GaussianNB\n",
        "nonprivate_clf = GaussianNB()\n",
        "nonprivate_clf.fit(X_train, y_train)\n",
        " \n",
        "from sklearn.metrics import accuracy_score\n",
        " \n",
        "print(\"Non-private test accuracy: %.2f%%\" % \n",
        "     (accuracy_score(y_test, nonprivate_clf.predict(X_test)) * 100))"
      ],
      "metadata": {
        "colab": {
          "base_uri": "https://localhost:8080/"
        },
        "id": "eUW4B2eN5lXP",
        "outputId": "a6602886-fe76-4bcb-b8d6-0fe86cbce0ac"
      },
      "execution_count": 3,
      "outputs": [
        {
          "output_type": "stream",
          "name": "stdout",
          "text": [
            "Non-private test accuracy: 79.64%\n"
          ]
        }
      ]
    },
    {
      "cell_type": "code",
      "source": [
        "!pip install diffprivlib"
      ],
      "metadata": {
        "colab": {
          "base_uri": "https://localhost:8080/"
        },
        "id": "QOxIyjFQ6Aaj",
        "outputId": "b154804d-30bb-4d53-b609-9b418afe51c2"
      },
      "execution_count": 9,
      "outputs": [
        {
          "output_type": "stream",
          "name": "stdout",
          "text": [
            "Looking in indexes: https://pypi.org/simple, https://us-python.pkg.dev/colab-wheels/public/simple/\n",
            "Collecting diffprivlib\n",
            "  Downloading diffprivlib-0.5.2-py3-none-any.whl (167 kB)\n",
            "\u001b[K     |████████████████████████████████| 167 kB 5.2 MB/s \n",
            "\u001b[?25hCollecting crlibm>=1.0.3\n",
            "  Downloading crlibm-1.0.3.tar.gz (1.6 MB)\n",
            "\u001b[K     |████████████████████████████████| 1.6 MB 48.7 MB/s \n",
            "\u001b[?25hRequirement already satisfied: setuptools>=49.0.0 in /usr/local/lib/python3.7/dist-packages (from diffprivlib) (57.4.0)\n",
            "Requirement already satisfied: scipy>=1.5.0 in /usr/local/lib/python3.7/dist-packages (from diffprivlib) (1.7.3)\n",
            "Requirement already satisfied: joblib>=0.16.0 in /usr/local/lib/python3.7/dist-packages (from diffprivlib) (1.1.0)\n",
            "Requirement already satisfied: numpy>=1.19.0 in /usr/local/lib/python3.7/dist-packages (from diffprivlib) (1.21.6)\n",
            "Requirement already satisfied: scikit-learn>=0.23.0 in /usr/local/lib/python3.7/dist-packages (from diffprivlib) (1.0.2)\n",
            "Requirement already satisfied: threadpoolctl>=2.0.0 in /usr/local/lib/python3.7/dist-packages (from scikit-learn>=0.23.0->diffprivlib) (3.1.0)\n",
            "Building wheels for collected packages: crlibm\n",
            "  Building wheel for crlibm (setup.py) ... \u001b[?25l\u001b[?25hdone\n",
            "  Created wheel for crlibm: filename=crlibm-1.0.3-cp37-cp37m-linux_x86_64.whl size=175320 sha256=875adf39f73ea64c78a8600bf2aad6b3e00167dba0a26c165d308ebcfc5886ab\n",
            "  Stored in directory: /root/.cache/pip/wheels/d5/49/76/c2047e63fe9162b0b156dd4c0656b5ee1e3d8a2d6cfc56132c\n",
            "Successfully built crlibm\n",
            "Installing collected packages: crlibm, diffprivlib\n",
            "Successfully installed crlibm-1.0.3 diffprivlib-0.5.2\n"
          ]
        }
      ]
    },
    {
      "cell_type": "code",
      "source": [
        "import diffprivlib.models as dp\n",
        "dp_clf = dp.GaussianNB()\n",
        " \n",
        "dp_clf.fit(X_train, y_train)\n",
        " \n",
        "print(\"Differentially private test accuracy (epsilon=%.2f): %.2f%%\" % \n",
        "      (dp_clf.epsilon, accuracy_score(y_test, dp_clf.predict(X_test)) * 100))"
      ],
      "metadata": {
        "colab": {
          "base_uri": "https://localhost:8080/"
        },
        "id": "xlisNXkl6w7W",
        "outputId": "b0e236cd-1e72-4330-c7eb-d569b8e9d345"
      },
      "execution_count": 10,
      "outputs": [
        {
          "output_type": "stream",
          "name": "stdout",
          "text": [
            "Differentially private test accuracy (epsilon=1.00): 78.66%\n"
          ]
        },
        {
          "output_type": "stream",
          "name": "stderr",
          "text": [
            "/usr/local/lib/python3.7/dist-packages/diffprivlib/models/naive_bayes.py:101: PrivacyLeakWarning: Bounds have not been specified and will be calculated on the data provided. This will result in additional privacy leakage. To ensure differential privacy and no additional privacy leakage, specify bounds for each dimension.\n",
            "  \"privacy leakage, specify bounds for each dimension.\", PrivacyLeakWarning)\n"
          ]
        }
      ]
    },
    {
      "cell_type": "code",
      "source": [
        "import diffprivlib.models as dp\n",
        "dp_clf = dp.GaussianNB(epsilon=float(\"0.01\"))\n",
        "dp_clf.fit(X_train, y_train)\n",
        " \n",
        "print(\"Differentially private test accuracy (epsilon=%.2f): %.2f%%\" % \n",
        "      (dp_clf.epsilon, accuracy_score(y_test, dp_clf.predict(X_test)) * 100))"
      ],
      "metadata": {
        "colab": {
          "base_uri": "https://localhost:8080/"
        },
        "id": "ppZ5iwOx62xc",
        "outputId": "407e7333-1825-4fec-c713-fb77e99cfd70"
      },
      "execution_count": 11,
      "outputs": [
        {
          "output_type": "stream",
          "name": "stdout",
          "text": [
            "Differentially private test accuracy (epsilon=0.01): 76.29%\n"
          ]
        },
        {
          "output_type": "stream",
          "name": "stderr",
          "text": [
            "/usr/local/lib/python3.7/dist-packages/diffprivlib/models/naive_bayes.py:101: PrivacyLeakWarning: Bounds have not been specified and will be calculated on the data provided. This will result in additional privacy leakage. To ensure differential privacy and no additional privacy leakage, specify bounds for each dimension.\n",
            "  \"privacy leakage, specify bounds for each dimension.\", PrivacyLeakWarning)\n"
          ]
        }
      ]
    },
    {
      "cell_type": "markdown",
      "source": [
        "Usage of Differentially Private Logistic Regression in Python"
      ],
      "metadata": {
        "id": "S7hyu-LfB5gg"
      }
    },
    {
      "cell_type": "code",
      "source": [
        "import numpy as np\n",
        " \n",
        "X_train = np.loadtxt(\"https://archive.ics.uci.edu/ml/machine-learning-databases/adult/adult.data\",\n",
        "                        usecols=(0, 4, 10, 11, 12), delimiter=\", \")\n",
        " \n",
        "y_train = np.loadtxt(\"https://archive.ics.uci.edu/ml/machine-learning-databases/adult/adult.data\",\n",
        "                        usecols=14, dtype=str, delimiter=\", \")\n",
        " \n",
        "X_test = np.loadtxt(\"https://archive.ics.uci.edu/ml/machine-learning-databases/adult/adult.test\",\n",
        "                        usecols=(0, 4, 10, 11, 12), delimiter=\", \", skiprows=1)\n",
        " \n",
        "y_test = np.loadtxt(\"https://archive.ics.uci.edu/ml/machine-learning-databases/adult/adult.test\",\n",
        "                        usecols=14, dtype=str, delimiter=\", \", skiprows=1)\n",
        "y_test = np.array([a[:-1] for a in y_test])"
      ],
      "metadata": {
        "id": "2U0JZ6noBq6q"
      },
      "execution_count": 15,
      "outputs": []
    },
    {
      "cell_type": "code",
      "source": [
        "from sklearn.linear_model import LogisticRegression\n",
        "from sklearn.pipeline import Pipeline\n",
        "from sklearn.preprocessing import MinMaxScaler\n",
        " \n",
        "lr = Pipeline([\n",
        "    ('scaler', MinMaxScaler()),\n",
        "    ('clf', LogisticRegression(solver=\"lbfgs\"))\n",
        "])"
      ],
      "metadata": {
        "id": "qYCmvRjaBeeh"
      },
      "execution_count": 16,
      "outputs": []
    },
    {
      "cell_type": "code",
      "source": [
        "lr.fit(X_train, y_train)\n",
        " \n",
        "from sklearn.metrics import accuracy_score\n",
        " \n",
        "print(\"Non-private test accuracy: %.2f%%\" % (accuracy_score(y_test, lr.predict(X_test)) * 100))"
      ],
      "metadata": {
        "colab": {
          "base_uri": "https://localhost:8080/"
        },
        "id": "1yzdyO1oCNz8",
        "outputId": "5e6e62a4-caf4-45b7-86e0-d62de02d8043"
      },
      "execution_count": 17,
      "outputs": [
        {
          "output_type": "stream",
          "name": "stdout",
          "text": [
            "Non-private test accuracy: 81.04%\n"
          ]
        }
      ]
    },
    {
      "cell_type": "code",
      "source": [
        "import diffprivlib.models as dp\n",
        "dp_lr = Pipeline([\n",
        "    ('scaler', MinMaxScaler()),\n",
        "    ('clf', dp.LogisticRegression())\n",
        "])\n",
        " \n",
        "dp_lr.fit(X_train, y_train)\n",
        " \n",
        "print(\"Differentially private test accuracy (epsilon=%.2f): %.2f%%\" % \n",
        "     (dp_lr['clf'].epsilon, accuracy_score(y_test, dp_lr.predict(X_test)) * 100))"
      ],
      "metadata": {
        "colab": {
          "base_uri": "https://localhost:8080/"
        },
        "id": "SAGWZ3VpCXyH",
        "outputId": "87c4e256-3e6b-4792-f137-a6f2e5bd08bc"
      },
      "execution_count": 18,
      "outputs": [
        {
          "output_type": "stream",
          "name": "stderr",
          "text": [
            "/usr/local/lib/python3.7/dist-packages/diffprivlib/models/logistic_regression.py:223: PrivacyLeakWarning: Data norm has not been specified and will be calculated on the data provided.  This will result in additional privacy leakage. To ensure differential privacy and no additional privacy leakage, specify `data_norm` at initialisation.\n",
            "  \"privacy leakage, specify `data_norm` at initialisation.\", PrivacyLeakWarning)\n"
          ]
        },
        {
          "output_type": "stream",
          "name": "stdout",
          "text": [
            "Differentially private test accuracy (epsilon=1.00): 80.79%\n"
          ]
        }
      ]
    }
  ]
}