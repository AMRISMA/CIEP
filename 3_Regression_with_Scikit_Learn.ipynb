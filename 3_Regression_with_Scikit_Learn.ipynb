{
  "nbformat": 4,
  "nbformat_minor": 0,
  "metadata": {
    "colab": {
      "name": "3. Regression with Scikit-Learn.ipynb",
      "provenance": [],
      "collapsed_sections": [],
      "authorship_tag": "ABX9TyPASJkilt0zEeAtD8dRscdv",
      "include_colab_link": true
    },
    "kernelspec": {
      "name": "python3",
      "display_name": "Python 3"
    },
    "language_info": {
      "name": "python"
    }
  },
  "cells": [
    {
      "cell_type": "markdown",
      "metadata": {
        "id": "view-in-github",
        "colab_type": "text"
      },
      "source": [
        "<a href=\"https://colab.research.google.com/github/AMRISMA/DataScience/blob/master/3_Regression_with_Scikit_Learn.ipynb\" target=\"_parent\"><img src=\"https://colab.research.google.com/assets/colab-badge.svg\" alt=\"Open In Colab\"/></a>"
      ]
    },
    {
      "cell_type": "code",
      "metadata": {
        "id": "YSvho6DxgsHR"
      },
      "source": [
        "import numpy as np\n",
        "import pandas as pd \n",
        "import matplotlib.pyplot as plt\n",
        "from sklearn.linear_model import LinearRegression\n",
        "from sklearn.model_selection import train_test_split\n",
        "from sklearn.metrics import mean_squared_error, r2_score\n",
        "%matplotlib inline\n",
        "\n",
        "#%matplotlib inline sets the backend of matplotlib to the 'inline' backend: \n",
        "#With this backend, the output of plotting commands is displayed inline within frontends like the Jupyter notebook,\n",
        "# directly below the code cell that produced it. The resulting plots will then also be stored in the notebook document."
      ],
      "execution_count": null,
      "outputs": []
    },
    {
      "cell_type": "code",
      "metadata": {
        "id": "1WixpLm1iE5Y"
      },
      "source": [
        "housing = pd.read_csv('housing.csv')\n"
      ],
      "execution_count": null,
      "outputs": []
    },
    {
      "cell_type": "code",
      "metadata": {
        "colab": {
          "base_uri": "https://localhost:8080/",
          "height": 204
        },
        "id": "MEWkjsJ2iT6y",
        "outputId": "2f5e9574-d99a-40c1-d2fa-629d88c79805"
      },
      "source": [
        "housing.head()"
      ],
      "execution_count": null,
      "outputs": [
        {
          "output_type": "execute_result",
          "data": {
            "text/html": [
              "<div>\n",
              "<style scoped>\n",
              "    .dataframe tbody tr th:only-of-type {\n",
              "        vertical-align: middle;\n",
              "    }\n",
              "\n",
              "    .dataframe tbody tr th {\n",
              "        vertical-align: top;\n",
              "    }\n",
              "\n",
              "    .dataframe thead th {\n",
              "        text-align: right;\n",
              "    }\n",
              "</style>\n",
              "<table border=\"1\" class=\"dataframe\">\n",
              "  <thead>\n",
              "    <tr style=\"text-align: right;\">\n",
              "      <th></th>\n",
              "      <th>Floor Area (sqft)</th>\n",
              "      <th>Value ($1000)</th>\n",
              "    </tr>\n",
              "  </thead>\n",
              "  <tbody>\n",
              "    <tr>\n",
              "      <th>0</th>\n",
              "      <td>665.0</td>\n",
              "      <td>161.0</td>\n",
              "    </tr>\n",
              "    <tr>\n",
              "      <th>1</th>\n",
              "      <td>442.0</td>\n",
              "      <td>83.0</td>\n",
              "    </tr>\n",
              "    <tr>\n",
              "      <th>2</th>\n",
              "      <td>302.0</td>\n",
              "      <td>53.0</td>\n",
              "    </tr>\n",
              "    <tr>\n",
              "      <th>3</th>\n",
              "      <td>336.0</td>\n",
              "      <td>57.0</td>\n",
              "    </tr>\n",
              "    <tr>\n",
              "      <th>4</th>\n",
              "      <td>673.0</td>\n",
              "      <td>152.0</td>\n",
              "    </tr>\n",
              "  </tbody>\n",
              "</table>\n",
              "</div>"
            ],
            "text/plain": [
              "   Floor Area (sqft)  Value ($1000)\n",
              "0              665.0          161.0\n",
              "1              442.0           83.0\n",
              "2              302.0           53.0\n",
              "3              336.0           57.0\n",
              "4              673.0          152.0"
            ]
          },
          "metadata": {},
          "execution_count": 6
        }
      ]
    },
    {
      "cell_type": "code",
      "metadata": {
        "colab": {
          "base_uri": "https://localhost:8080/"
        },
        "id": "9yFKj6-VieVG",
        "outputId": "17a07ac3-a8ae-4b27-fd39-d6ad602c9703"
      },
      "source": [
        "housing.isnull().sum()"
      ],
      "execution_count": null,
      "outputs": [
        {
          "output_type": "execute_result",
          "data": {
            "text/plain": [
              "Floor Area (sqft)    0\n",
              "Value ($1000)        0\n",
              "dtype: int64"
            ]
          },
          "metadata": {},
          "execution_count": 7
        }
      ]
    },
    {
      "cell_type": "code",
      "metadata": {
        "id": "fQacyDMTig77"
      },
      "source": [
        "X = housing[['Floor Area (sqft)']]\n",
        "y = housing['Value ($1000)']\n",
        "X_train, X_test, y_train, y_test = train_test_split(X, y, test_size=0.2, random_state=42)"
      ],
      "execution_count": null,
      "outputs": []
    },
    {
      "cell_type": "code",
      "metadata": {
        "colab": {
          "base_uri": "https://localhost:8080/",
          "height": 312
        },
        "id": "KOUmLvkViufv",
        "outputId": "05bca0c3-8f0a-4c2d-893e-b41e7fed1f9f"
      },
      "source": [
        "plt.scatter(X_train['Floor Area (sqft)'], y_train, s=10)\n",
        "plt.title('Housing Price vs Floor Area')\n",
        "plt.xlabel('Floor Area (sqft)')\n",
        "plt.ylabel('Price in $1000s')"
      ],
      "execution_count": null,
      "outputs": [
        {
          "output_type": "execute_result",
          "data": {
            "text/plain": [
              "Text(0, 0.5, 'Price in $1000s')"
            ]
          },
          "metadata": {},
          "execution_count": 10
        },
        {
          "output_type": "display_data",
          "data": {
            "image/png": "[encoded data removed]",
            "text/plain": [
              "<Figure size 432x288 with 1 Axes>"
            ]
          },
          "metadata": {
            "needs_background": "light"
          }
        }
      ]
    },
    {
      "cell_type": "code",
      "metadata": {
        "colab": {
          "base_uri": "https://localhost:8080/"
        },
        "id": "CsYEMD1MizQs",
        "outputId": "32add6d1-8783-40d9-d85e-949be65531e8"
      },
      "source": [
        "lr = LinearRegression()\n",
        "lr.fit(X_train, y_train)"
      ],
      "execution_count": null,
      "outputs": [
        {
          "output_type": "execute_result",
          "data": {
            "text/plain": [
              "LinearRegression()"
            ]
          },
          "metadata": {},
          "execution_count": 11
        }
      ]
    },
    {
      "cell_type": "code",
      "metadata": {
        "colab": {
          "base_uri": "https://localhost:8080/"
        },
        "id": "l5mGsinsj9ik",
        "outputId": "1b07215f-b7a5-4008-96b4-1546ab59e67a"
      },
      "source": [
        "print(lr.intercept_)\n",
        "print(lr.coef_)"
      ],
      "execution_count": null,
      "outputs": [
        {
          "output_type": "stream",
          "name": "stdout",
          "text": [
            "-29.6514648875731\n",
            "[0.2640654]\n"
          ]
        }
      ]
    },
    {
      "cell_type": "code",
      "metadata": {
        "colab": {
          "base_uri": "https://localhost:8080/"
        },
        "id": "P3GNFDiRkCyM",
        "outputId": "466b7232-7a82-411e-c147-da8472861d60"
      },
      "source": [
        "predicted_price = lr.predict([[250], [300]])\n",
        "print(predicted_price)"
      ],
      "execution_count": null,
      "outputs": [
        {
          "output_type": "stream",
          "name": "stdout",
          "text": [
            "[36.3648842  49.56815401]\n"
          ]
        },
        {
          "output_type": "stream",
          "name": "stderr",
          "text": [
            "/usr/local/lib/python3.7/dist-packages/sklearn/base.py:446: UserWarning: X does not have valid feature names, but LinearRegression was fitted with feature names\n",
            "  \"X does not have valid feature names, but\"\n"
          ]
        }
      ]
    },
    {
      "cell_type": "code",
      "metadata": {
        "colab": {
          "base_uri": "https://localhost:8080/",
          "height": 312
        },
        "id": "vZUOj8xokJZC",
        "outputId": "94e05fc4-d506-4052-88a8-1d611c3f827a"
      },
      "source": [
        "plt.scatter(X_train['Floor Area (sqft)'], y_train, s=10)\n",
        "\n",
        "y_pred = lr.predict(X_train)\n",
        "plt.plot(X_train['Floor Area (sqft)'], y_pred)\n",
        "\n",
        "plt.title('Housing Price vs Floor Area')\n",
        "plt.xlabel('Floor Area (sqft)')\n",
        "plt.ylabel('Price in $1000s')"
      ],
      "execution_count": null,
      "outputs": [
        {
          "output_type": "execute_result",
          "data": {
            "text/plain": [
              "Text(0, 0.5, 'Price in $1000s')"
            ]
          },
          "metadata": {},
          "execution_count": 14
        },
        {
          "output_type": "display_data",
          "data": {
            "image/png": "[encoded data removed]",
            "text/plain": [
              "<Figure size 432x288 with 1 Axes>"
            ]
          },
          "metadata": {
            "needs_background": "light"
          }
        }
      ]
    },
    {
      "cell_type": "code",
      "metadata": {
        "colab": {
          "base_uri": "https://localhost:8080/"
        },
        "id": "S9Sd7KUHkY8v",
        "outputId": "7d447cb4-22ea-44bc-c9d4-a6db33a4e072"
      },
      "source": [
        "RMSE = mean_squared_error(y_train, y_pred, squared=False)\n",
        "r2 = r2_score(y_train, y_pred)\n",
        "print(RMSE)\n",
        "print(r2)"
      ],
      "execution_count": null,
      "outputs": [
        {
          "output_type": "stream",
          "name": "stdout",
          "text": [
            "11.426788012892116\n",
            "0.8827389714759885\n"
          ]
        }
      ]
    },
    {
      "cell_type": "code",
      "metadata": {
        "colab": {
          "base_uri": "https://localhost:8080/"
        },
        "id": "YJox3Qo-kfy6",
        "outputId": "47e16cce-fa1f-464f-c2a6-f99b7ecdc8e4"
      },
      "source": [
        "y_pred_test = lr.predict(X_test)\n",
        "RMSE = mean_squared_error(y_test, y_pred_test, squared=False)\n",
        "r2 = r2_score(y_test, y_pred_test)\n",
        "print(RMSE)\n",
        "print(r2)"
      ],
      "execution_count": null,
      "outputs": [
        {
          "output_type": "stream",
          "name": "stdout",
          "text": [
            "10.413298895214577\n",
            "0.9229207556091985\n"
          ]
        }
      ]
    }
  ]
}