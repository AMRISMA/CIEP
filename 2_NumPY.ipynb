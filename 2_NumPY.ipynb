{
  "nbformat": 4,
  "nbformat_minor": 0,
  "metadata": {
    "colab": {
      "name": "2. NumPY",
      "provenance": [],
      "collapsed_sections": [],
      "include_colab_link": true
    },
    "kernelspec": {
      "name": "python3",
      "display_name": "Python 3"
    },
    "language_info": {
      "name": "python"
    }
  },
  "cells": [
    {
      "cell_type": "markdown",
      "metadata": {
        "id": "view-in-github",
        "colab_type": "text"
      },
      "source": [
        "<a href=\"https://colab.research.google.com/github/AMRISMA/DataScience/blob/master/2_NumPY.ipynb\" target=\"_parent\"><img src=\"https://colab.research.google.com/assets/colab-badge.svg\" alt=\"Open In Colab\"/></a>"
      ]
    },
    {
      "cell_type": "markdown",
      "metadata": {
        "id": "8zEuNpFLvclh"
      },
      "source": [
        "# 2.2 Importing the NumPy Library"
      ]
    },
    {
      "cell_type": "code",
      "metadata": {
        "id": "9gEeUxUYvCrI"
      },
      "source": [
        "import numpy as np"
      ],
      "execution_count": null,
      "outputs": []
    },
    {
      "cell_type": "markdown",
      "metadata": {
        "id": "5fSGTak7vjuq"
      },
      "source": [
        "# 2.3 Creating a NumPy Array"
      ]
    },
    {
      "cell_type": "markdown",
      "metadata": {
        "id": "ICW3pxX8v2kr"
      },
      "source": [
        "## Converting from Python array-like structures"
      ]
    },
    {
      "cell_type": "code",
      "metadata": {
        "colab": {
          "base_uri": "https://localhost:8080/"
        },
        "id": "aLg7O5bjviUE",
        "outputId": "83adfb1e-9da3-4f91-9f7b-94da30d9a78d"
      },
      "source": [
        "list1 = [1, 2, 3, 4]\n",
        "list2 = [[1, 2, 3, 4]]\n",
        "list3 = [[1, 2, 3, 4], [10, 20, 30, 40], [100, 200, 300, 400]]\n",
        "arr1 = np.array(list1)\n",
        "arr2 = np.array(list2)\n",
        "arr3 = np.array(list3)\n",
        "print(type(arr1), type(arr2), type(arr3))"
      ],
      "execution_count": null,
      "outputs": [
        {
          "output_type": "stream",
          "name": "stdout",
          "text": [
            "<class 'numpy.ndarray'> <class 'numpy.ndarray'> <class 'numpy.ndarray'>\n"
          ]
        }
      ]
    },
    {
      "cell_type": "code",
      "metadata": {
        "colab": {
          "base_uri": "https://localhost:8080/"
        },
        "id": "rONku-IbwA-o",
        "outputId": "64783e25-61cf-4236-d053-a62373ecfac7"
      },
      "source": [
        "print(arr1.shape)\n",
        "print(arr2.shape)\n",
        "print(arr3.shape)"
      ],
      "execution_count": null,
      "outputs": [
        {
          "output_type": "stream",
          "name": "stdout",
          "text": [
            "(4,)\n",
            "(1, 4)\n",
            "(3, 4)\n"
          ]
        }
      ]
    },
    {
      "cell_type": "markdown",
      "metadata": {
        "id": "49UbSNgSwh3J"
      },
      "source": [
        "## Creating NumPy Arrays from Scratch"
      ]
    },
    {
      "cell_type": "code",
      "metadata": {
        "colab": {
          "base_uri": "https://localhost:8080/"
        },
        "id": "U2Jc7cjlwwdi",
        "outputId": "9c0c02a7-a431-49b7-96ba-4814a6d87224"
      },
      "source": [
        "arr4 = np.linspace(0, 10, 5)\n",
        "print(arr4)"
      ],
      "execution_count": null,
      "outputs": [
        {
          "output_type": "stream",
          "name": "stdout",
          "text": [
            "[ 0.   2.5  5.   7.5 10. ]\n"
          ]
        }
      ]
    },
    {
      "cell_type": "markdown",
      "metadata": {
        "id": "vMI8ZE_xxCKq"
      },
      "source": [
        "# 2.4 Selecting Data from a NumPy Array"
      ]
    },
    {
      "cell_type": "code",
      "metadata": {
        "colab": {
          "base_uri": "https://localhost:8080/"
        },
        "id": "KWmbHQw9w8MI",
        "outputId": "4857224b-3f69-422c-bde7-9f05fcddadde"
      },
      "source": [
        "arr1 = np.array([1, 2, 3, 4, 5])\n",
        "print(arr1[2])\n",
        "print(arr1[-1])\n",
        "print(arr1[-2])"
      ],
      "execution_count": 4,
      "outputs": [
        {
          "output_type": "stream",
          "name": "stdout",
          "text": [
            "3\n",
            "5\n",
            "4\n"
          ]
        }
      ]
    },
    {
      "cell_type": "code",
      "metadata": {
        "colab": {
          "base_uri": "https://localhost:8080/"
        },
        "id": "rJs_ndTdxLnc",
        "outputId": "1d361e72-6b05-4849-c353-c308d931178b"
      },
      "source": [
        "arr2 = np.array([['a', 'b', 'c'], ['d', 'e', 'f']])\n",
        "print(arr2[0])\n",
        "print(arr2[0][1])\n",
        "print(arr2[0, 1])"
      ],
      "execution_count": null,
      "outputs": [
        {
          "output_type": "stream",
          "name": "stdout",
          "text": [
            "['a' 'b' 'c']\n",
            "b\n",
            "b\n"
          ]
        }
      ]
    },
    {
      "cell_type": "code",
      "metadata": {
        "colab": {
          "base_uri": "https://localhost:8080/"
        },
        "id": "jh8i93w0xWpI",
        "outputId": "a1b4c054-0074-4ea2-9304-0877fc74c494"
      },
      "source": [
        "arr3 = np.array(['a', 'b', 'c', 'd', 'e', 'f', 'g', 'h', 'i', 'j'])\n",
        "print(arr3[1:6])"
      ],
      "execution_count": null,
      "outputs": [
        {
          "output_type": "stream",
          "name": "stdout",
          "text": [
            "['b' 'c' 'd' 'e' 'f']\n"
          ]
        }
      ]
    },
    {
      "cell_type": "code",
      "metadata": {
        "colab": {
          "base_uri": "https://localhost:8080/"
        },
        "id": "isHJzvgSqZPH",
        "outputId": "d6fa1172-2609-4a99-9f86-f6d035e43766"
      },
      "source": [
        "print(arr3[1:6:2])"
      ],
      "execution_count": null,
      "outputs": [
        {
          "output_type": "stream",
          "name": "stdout",
          "text": [
            "['b' 'd' 'f']\n"
          ]
        }
      ]
    },
    {
      "cell_type": "code",
      "metadata": {
        "colab": {
          "base_uri": "https://localhost:8080/"
        },
        "id": "i1oYWJX53U5a",
        "outputId": "be787002-7709-41b8-e595-0c749d535a62"
      },
      "source": [
        "arr4 = np.array([[1, 2, 3, 4, 5], [10, 20, 30, 40, 50], [6, 7, 8, 9, 10]])\n",
        "print(arr4[0:2, 2:4])"
      ],
      "execution_count": null,
      "outputs": [
        {
          "output_type": "stream",
          "name": "stdout",
          "text": [
            "[[ 3  4]\n",
            " [30 40]]\n"
          ]
        }
      ]
    },
    {
      "cell_type": "markdown",
      "metadata": {
        "id": "3Ho6lTNH3e4i"
      },
      "source": [
        "# 2.5 ndarray Methods"
      ]
    },
    {
      "cell_type": "code",
      "metadata": {
        "colab": {
          "base_uri": "https://localhost:8080/"
        },
        "id": "-eRiUJ2N3YTY",
        "outputId": "f369befc-a1d7-4488-d418-fb64aacfb847"
      },
      "source": [
        "arr1 = np.array([[1, 2, 3, 4], [5, 6, 7, 8]])\n",
        "print(arr1.sum())\n",
        "print(arr1.sum(axis=0))\n",
        "print(arr1.sum(axis=1))"
      ],
      "execution_count": null,
      "outputs": [
        {
          "output_type": "stream",
          "name": "stdout",
          "text": [
            "36\n",
            "[ 6  8 10 12]\n",
            "[10 26]\n"
          ]
        }
      ]
    },
    {
      "cell_type": "code",
      "metadata": {
        "colab": {
          "base_uri": "https://localhost:8080/"
        },
        "id": "gyQSChGK4FIz",
        "outputId": "d7bcf321-cf36-4b95-a737-04fd688849f6"
      },
      "source": [
        "arr2 = np.array([1, 2, 3, 4, 5, 6, 7, 8])\n",
        "reshaped_array = arr2.reshape((4, 2))\n",
        "print(arr2)\n",
        "print(reshaped_array)"
      ],
      "execution_count": null,
      "outputs": [
        {
          "output_type": "stream",
          "name": "stdout",
          "text": [
            "[1 2 3 4 5 6 7 8]\n",
            "[[1 2]\n",
            " [3 4]\n",
            " [5 6]\n",
            " [7 8]]\n"
          ]
        }
      ]
    },
    {
      "cell_type": "code",
      "metadata": {
        "id": "uaLqQGpiFakT",
        "colab": {
          "base_uri": "https://localhost:8080/"
        },
        "outputId": "4482b238-ccec-40d0-9d40-758194d5296f"
      },
      "source": [
        "arr2 = np.array([1, 2, 3, 4, 5, 6, 7, 8])\n",
        "reshaped_array = arr2.reshape((4, -1))\n",
        "print(arr2)\n",
        "print(reshaped_array)"
      ],
      "execution_count": null,
      "outputs": [
        {
          "output_type": "stream",
          "name": "stdout",
          "text": [
            "[1 2 3 4 5 6 7 8]\n",
            "[[1 2]\n",
            " [3 4]\n",
            " [5 6]\n",
            " [7 8]]\n"
          ]
        }
      ]
    },
    {
      "cell_type": "code",
      "metadata": {
        "colab": {
          "base_uri": "https://localhost:8080/"
        },
        "id": "cXS2O5ZhvVX3",
        "outputId": "3e4c6be1-8bdf-4df0-d2b7-5eecb4511ef2"
      },
      "source": [
        "arr3 = np.array([1, 2, 3, 4, 5])\n",
        "reshaped_array_2 = arr3.reshape((1, -1))\n",
        "print(arr3)\n",
        "print(reshaped_array_2)"
      ],
      "execution_count": null,
      "outputs": [
        {
          "output_type": "stream",
          "text": [
            "[1 2 3 4 5]\n",
            "[[1 2 3 4 5]]\n"
          ],
          "name": "stdout"
        }
      ]
    },
    {
      "cell_type": "markdown",
      "metadata": {
        "id": "V878sZRk4xnq"
      },
      "source": [
        "# 2.6 NumPy Functions"
      ]
    },
    {
      "cell_type": "code",
      "metadata": {
        "colab": {
          "base_uri": "https://localhost:8080/"
        },
        "id": "gudO6rIC42Pc",
        "outputId": "946e1fad-0132-4876-8bd6-c096e78abf49"
      },
      "source": [
        "arr1 = np.array([[1, 2], [3, 4], [5, 6]])\n",
        "arr2 = np.array([[7, 8]])\n",
        "combined_array = np.concatenate((arr1, arr2))\n",
        "print(combined_array)"
      ],
      "execution_count": null,
      "outputs": [
        {
          "output_type": "stream",
          "name": "stdout",
          "text": [
            "[[1 2]\n",
            " [3 4]\n",
            " [5 6]\n",
            " [7 8]]\n"
          ]
        }
      ]
    },
    {
      "cell_type": "code",
      "metadata": {
        "colab": {
          "base_uri": "https://localhost:8080/"
        },
        "id": "tRgMrdzI5H8b",
        "outputId": "9f5b7632-f28c-4b1f-cb09-cbbc9e9a9c8c"
      },
      "source": [
        "arr3 = np.array([[9], [10], [11], [12]])\n",
        "combined_array = np.concatenate((combined_array, arr3), axis=1)\n",
        "print(combined_array)"
      ],
      "execution_count": null,
      "outputs": [
        {
          "output_type": "stream",
          "name": "stdout",
          "text": [
            "[[ 1  2  9]\n",
            " [ 3  4 10]\n",
            " [ 5  6 11]\n",
            " [ 7  8 12]]\n"
          ]
        }
      ]
    },
    {
      "cell_type": "code",
      "metadata": {
        "id": "rqaSFUuxTCON"
      },
      "source": [
        "arr4 = np.array([1, 2, 3, 4, 5, 6])"
      ],
      "execution_count": null,
      "outputs": []
    },
    {
      "cell_type": "code",
      "metadata": {
        "colab": {
          "base_uri": "https://localhost:8080/"
        },
        "id": "ahoGy9JaTIqg",
        "outputId": "2bd9564f-2251-4ba0-8a6b-c6eaba1b5444"
      },
      "source": [
        "reshaped1 = arr4.reshape((2, -1))\n",
        "print(reshaped1)"
      ],
      "execution_count": null,
      "outputs": [
        {
          "output_type": "stream",
          "name": "stdout",
          "text": [
            "[[1 2 3]\n",
            " [4 5 6]]\n"
          ]
        }
      ]
    },
    {
      "cell_type": "code",
      "metadata": {
        "colab": {
          "base_uri": "https://localhost:8080/"
        },
        "id": "d83cYSgITKx4",
        "outputId": "c4e69b26-5ed1-4719-d051-e40fc0ed5e06"
      },
      "source": [
        "reshaped2 = np.reshape(arr4, (2, -1))\n",
        "print(reshaped2)"
      ],
      "execution_count": null,
      "outputs": [
        {
          "output_type": "stream",
          "name": "stdout",
          "text": [
            "[[1 2 3]\n",
            " [4 5 6]]\n"
          ]
        }
      ]
    }
  ]
}