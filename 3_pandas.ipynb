{
  "nbformat": 4,
  "nbformat_minor": 0,
  "metadata": {
    "colab": {
      "name": "3 - pandas.ipynb",
      "provenance": [],
      "collapsed_sections": [],
      "include_colab_link": true
    },
    "kernelspec": {
      "name": "python3",
      "display_name": "Python 3"
    },
    "language_info": {
      "name": "python"
    }
  },
  "cells": [
    {
      "cell_type": "markdown",
      "metadata": {
        "id": "view-in-github",
        "colab_type": "text"
      },
      "source": [
        "<a href=\"https://colab.research.google.com/github/AMRISMA/DataScience/blob/master/3_pandas.ipynb\" target=\"_parent\"><img src=\"https://colab.research.google.com/assets/colab-badge.svg\" alt=\"Open In Colab\"/></a>"
      ]
    },
    {
      "cell_type": "markdown",
      "metadata": {
        "id": "8a0qjuSPLmN5"
      },
      "source": [
        "# 3.2 Importing the pandas Library"
      ]
    },
    {
      "cell_type": "code",
      "metadata": {
        "id": "1uM9DjX05XgP"
      },
      "source": [
        "import pandas as pd"
      ],
      "execution_count": null,
      "outputs": []
    },
    {
      "cell_type": "markdown",
      "metadata": {
        "id": "TDkZ-sSjL36t"
      },
      "source": [
        "# 3.3 Creating a pandas Series"
      ]
    },
    {
      "cell_type": "code",
      "metadata": {
        "colab": {
          "base_uri": "https://localhost:8080/"
        },
        "id": "Ktj5R0hkLp52",
        "outputId": "aeeece05-984d-4b37-84bb-0233f06d38cb"
      },
      "source": [
        "list1 = [1, 2, 3, 4, 5]\n",
        "print(list1)\n",
        "\n",
        "series1 = pd.Series(list1)\n",
        "print(series1)\n",
        "\n",
        "series2 = pd.Series(list1, index=['P', 'Q', 'R', 'S', 'T'])\n",
        "print(series2)"
      ],
      "execution_count": null,
      "outputs": [
        {
          "output_type": "stream",
          "name": "stdout",
          "text": [
            "[1, 2, 3, 4, 5]\n",
            "0    1\n",
            "1    2\n",
            "2    3\n",
            "3    4\n",
            "4    5\n",
            "dtype: int64\n",
            "P    1\n",
            "Q    2\n",
            "R    3\n",
            "S    4\n",
            "T    5\n",
            "dtype: int64\n"
          ]
        }
      ]
    },
    {
      "cell_type": "markdown",
      "metadata": {
        "id": "sIbKiCFgRM0n"
      },
      "source": [
        "# 3.4 Creating a pandas DataFrame"
      ]
    },
    {
      "cell_type": "code",
      "metadata": {
        "colab": {
          "base_uri": "https://localhost:8080/"
        },
        "id": "Ve8ytbHsRC-M",
        "outputId": "a1875050-10cd-4402-cf12-58e04bb11a7d"
      },
      "source": [
        "# Creating from a 2D list\n",
        "myList = [[1, 2, 3], [4, 5, 6]]\n",
        "df1 = pd.DataFrame(myList)\n",
        "print(df1, end='\\n\\n')\n",
        "\n",
        "# Creating from a dictionary of lists\n",
        "myDict = {'A':[1, 2, 3], 'B':[4, 5, 6]}\n",
        "df2 = pd.DataFrame(myDict)\n",
        "print(df2, end='\\n\\n')"
      ],
      "execution_count": null,
      "outputs": [
        {
          "output_type": "stream",
          "name": "stdout",
          "text": [
            "   0  1  2\n",
            "0  1  2  3\n",
            "1  4  5  6\n",
            "\n",
            "   A  B\n",
            "0  1  4\n",
            "1  2  5\n",
            "2  3  6\n",
            "\n"
          ]
        }
      ]
    },
    {
      "cell_type": "code",
      "metadata": {
        "colab": {
          "base_uri": "https://localhost:8080/",
          "height": 111
        },
        "id": "kPh4KQgwRbs1",
        "outputId": "ad8859be-25d7-4254-d4d6-81b4e87af92f"
      },
      "source": [
        "myList2 = [[1, 2, 3, 4, 5], [10, 20, 30, 40, 50]]\n",
        "df3 = pd.DataFrame(myList2, index = ['A', 'B'], columns = ['1st', '2nd', '3rd', '4th', '5th'])\n",
        "df3"
      ],
      "execution_count": null,
      "outputs": [
        {
          "output_type": "execute_result",
          "data": {
            "text/html": [
              "<div>\n",
              "<style scoped>\n",
              "    .dataframe tbody tr th:only-of-type {\n",
              "        vertical-align: middle;\n",
              "    }\n",
              "\n",
              "    .dataframe tbody tr th {\n",
              "        vertical-align: top;\n",
              "    }\n",
              "\n",
              "    .dataframe thead th {\n",
              "        text-align: right;\n",
              "    }\n",
              "</style>\n",
              "<table border=\"1\" class=\"dataframe\">\n",
              "  <thead>\n",
              "    <tr style=\"text-align: right;\">\n",
              "      <th></th>\n",
              "      <th>1st</th>\n",
              "      <th>2nd</th>\n",
              "      <th>3rd</th>\n",
              "      <th>4th</th>\n",
              "      <th>5th</th>\n",
              "    </tr>\n",
              "  </thead>\n",
              "  <tbody>\n",
              "    <tr>\n",
              "      <th>A</th>\n",
              "      <td>1</td>\n",
              "      <td>2</td>\n",
              "      <td>3</td>\n",
              "      <td>4</td>\n",
              "      <td>5</td>\n",
              "    </tr>\n",
              "    <tr>\n",
              "      <th>B</th>\n",
              "      <td>10</td>\n",
              "      <td>20</td>\n",
              "      <td>30</td>\n",
              "      <td>40</td>\n",
              "      <td>50</td>\n",
              "    </tr>\n",
              "  </tbody>\n",
              "</table>\n",
              "</div>"
            ],
            "text/plain": [
              "   1st  2nd  3rd  4th  5th\n",
              "A    1    2    3    4    5\n",
              "B   10   20   30   40   50"
            ]
          },
          "metadata": {},
          "execution_count": 5
        }
      ]
    },
    {
      "cell_type": "markdown",
      "metadata": {
        "id": "f7JIZgSYgSQQ"
      },
      "source": [
        "# 3.5 Using read_csv()"
      ]
    },
    {
      "cell_type": "code",
      "metadata": {
        "id": "78JDQZGyRqXy"
      },
      "source": [
        "classData = pd.read_csv('pandasDemo.csv')"
      ],
      "execution_count": 2,
      "outputs": []
    },
    {
      "cell_type": "markdown",
      "metadata": {
        "id": "kRAcKXqHi5fS"
      },
      "source": [
        "# 3.6 Exploring data in a DataFrame"
      ]
    },
    {
      "cell_type": "code",
      "metadata": {
        "colab": {
          "base_uri": "https://localhost:8080/",
          "height": 249
        },
        "id": "1DumeHYzicU8",
        "outputId": "cc17a6f3-cac1-487a-dfc7-b63c62d6624b"
      },
      "source": [
        "classData.head(6)"
      ],
      "execution_count": 3,
      "outputs": [
        {
          "output_type": "execute_result",
          "data": {
            "text/html": [
              "<div>\n",
              "<style scoped>\n",
              "    .dataframe tbody tr th:only-of-type {\n",
              "        vertical-align: middle;\n",
              "    }\n",
              "\n",
              "    .dataframe tbody tr th {\n",
              "        vertical-align: top;\n",
              "    }\n",
              "\n",
              "    .dataframe thead th {\n",
              "        text-align: right;\n",
              "    }\n",
              "</style>\n",
              "<table border=\"1\" class=\"dataframe\">\n",
              "  <thead>\n",
              "    <tr style=\"text-align: right;\">\n",
              "      <th></th>\n",
              "      <th>ModuleID</th>\n",
              "      <th>Instructor</th>\n",
              "      <th>TA</th>\n",
              "      <th>Enrolment</th>\n",
              "      <th>Rating</th>\n",
              "    </tr>\n",
              "  </thead>\n",
              "  <tbody>\n",
              "    <tr>\n",
              "      <th>0</th>\n",
              "      <td>CS101</td>\n",
              "      <td>Aaron</td>\n",
              "      <td>Vera</td>\n",
              "      <td>38.0</td>\n",
              "      <td>9.0</td>\n",
              "    </tr>\n",
              "    <tr>\n",
              "      <th>1</th>\n",
              "      <td>CS101</td>\n",
              "      <td>Beth</td>\n",
              "      <td>Carol</td>\n",
              "      <td>NaN</td>\n",
              "      <td>9.0</td>\n",
              "    </tr>\n",
              "    <tr>\n",
              "      <th>2</th>\n",
              "      <td>CS101</td>\n",
              "      <td>Calvin</td>\n",
              "      <td>Andy</td>\n",
              "      <td>28.0</td>\n",
              "      <td>7.0</td>\n",
              "    </tr>\n",
              "    <tr>\n",
              "      <th>3</th>\n",
              "      <td>CS102</td>\n",
              "      <td>Dan</td>\n",
              "      <td>Zidane</td>\n",
              "      <td>39.0</td>\n",
              "      <td>6.0</td>\n",
              "    </tr>\n",
              "    <tr>\n",
              "      <th>4</th>\n",
              "      <td>CS102</td>\n",
              "      <td>Aaron</td>\n",
              "      <td>Andy</td>\n",
              "      <td>32.0</td>\n",
              "      <td>NaN</td>\n",
              "    </tr>\n",
              "    <tr>\n",
              "      <th>5</th>\n",
              "      <td>CS102</td>\n",
              "      <td>Beth</td>\n",
              "      <td>Vera</td>\n",
              "      <td>NaN</td>\n",
              "      <td>7.0</td>\n",
              "    </tr>\n",
              "  </tbody>\n",
              "</table>\n",
              "</div>"
            ],
            "text/plain": [
              "  ModuleID Instructor      TA  Enrolment  Rating\n",
              "0    CS101      Aaron    Vera       38.0     9.0\n",
              "1    CS101       Beth   Carol        NaN     9.0\n",
              "2    CS101     Calvin    Andy       28.0     7.0\n",
              "3    CS102        Dan  Zidane       39.0     6.0\n",
              "4    CS102      Aaron    Andy       32.0     NaN\n",
              "5    CS102       Beth    Vera        NaN     7.0"
            ]
          },
          "metadata": {},
          "execution_count": 3
        }
      ]
    },
    {
      "cell_type": "code",
      "metadata": {
        "colab": {
          "base_uri": "https://localhost:8080/",
          "height": 315
        },
        "id": "BiAk0ymRinO9",
        "outputId": "7a4d2507-76d3-4d35-ff07-44f3696a21d5"
      },
      "source": [
        "classData.describe()"
      ],
      "execution_count": 4,
      "outputs": [
        {
          "output_type": "execute_result",
          "data": {
            "text/html": [
              "<div>\n",
              "<style scoped>\n",
              "    .dataframe tbody tr th:only-of-type {\n",
              "        vertical-align: middle;\n",
              "    }\n",
              "\n",
              "    .dataframe tbody tr th {\n",
              "        vertical-align: top;\n",
              "    }\n",
              "\n",
              "    .dataframe thead th {\n",
              "        text-align: right;\n",
              "    }\n",
              "</style>\n",
              "<table border=\"1\" class=\"dataframe\">\n",
              "  <thead>\n",
              "    <tr style=\"text-align: right;\">\n",
              "      <th></th>\n",
              "      <th>Enrolment</th>\n",
              "      <th>Rating</th>\n",
              "    </tr>\n",
              "  </thead>\n",
              "  <tbody>\n",
              "    <tr>\n",
              "      <th>count</th>\n",
              "      <td>9.000000</td>\n",
              "      <td>8.000000</td>\n",
              "    </tr>\n",
              "    <tr>\n",
              "      <th>mean</th>\n",
              "      <td>34.000000</td>\n",
              "      <td>7.875000</td>\n",
              "    </tr>\n",
              "    <tr>\n",
              "      <th>std</th>\n",
              "      <td>4.873397</td>\n",
              "      <td>1.125992</td>\n",
              "    </tr>\n",
              "    <tr>\n",
              "      <th>min</th>\n",
              "      <td>28.000000</td>\n",
              "      <td>6.000000</td>\n",
              "    </tr>\n",
              "    <tr>\n",
              "      <th>25%</th>\n",
              "      <td>30.000000</td>\n",
              "      <td>7.000000</td>\n",
              "    </tr>\n",
              "    <tr>\n",
              "      <th>50%</th>\n",
              "      <td>32.000000</td>\n",
              "      <td>8.000000</td>\n",
              "    </tr>\n",
              "    <tr>\n",
              "      <th>75%</th>\n",
              "      <td>39.000000</td>\n",
              "      <td>9.000000</td>\n",
              "    </tr>\n",
              "    <tr>\n",
              "      <th>max</th>\n",
              "      <td>40.000000</td>\n",
              "      <td>9.000000</td>\n",
              "    </tr>\n",
              "  </tbody>\n",
              "</table>\n",
              "</div>"
            ],
            "text/plain": [
              "       Enrolment    Rating\n",
              "count   9.000000  8.000000\n",
              "mean   34.000000  7.875000\n",
              "std     4.873397  1.125992\n",
              "min    28.000000  6.000000\n",
              "25%    30.000000  7.000000\n",
              "50%    32.000000  8.000000\n",
              "75%    39.000000  9.000000\n",
              "max    40.000000  9.000000"
            ]
          },
          "metadata": {},
          "execution_count": 4
        }
      ]
    },
    {
      "cell_type": "markdown",
      "metadata": {
        "id": "a4wK_E0WjALt"
      },
      "source": [
        "# 3.7 Changing labels of row(s) and column(s)"
      ]
    },
    {
      "cell_type": "code",
      "metadata": {
        "colab": {
          "base_uri": "https://localhost:8080/",
          "height": 216
        },
        "id": "-iUn4kcfipJQ",
        "outputId": "9e2f792b-f1e1-442b-a51f-aed9ad4087bf"
      },
      "source": [
        "classData = classData.rename(columns={'TA':'Assistant'}, index={0:'Row Zero',1:'Row One'})\n",
        "classData.head()"
      ],
      "execution_count": 5,
      "outputs": [
        {
          "output_type": "execute_result",
          "data": {
            "text/html": [
              "<div>\n",
              "<style scoped>\n",
              "    .dataframe tbody tr th:only-of-type {\n",
              "        vertical-align: middle;\n",
              "    }\n",
              "\n",
              "    .dataframe tbody tr th {\n",
              "        vertical-align: top;\n",
              "    }\n",
              "\n",
              "    .dataframe thead th {\n",
              "        text-align: right;\n",
              "    }\n",
              "</style>\n",
              "<table border=\"1\" class=\"dataframe\">\n",
              "  <thead>\n",
              "    <tr style=\"text-align: right;\">\n",
              "      <th></th>\n",
              "      <th>ModuleID</th>\n",
              "      <th>Instructor</th>\n",
              "      <th>Assistant</th>\n",
              "      <th>Enrolment</th>\n",
              "      <th>Rating</th>\n",
              "    </tr>\n",
              "  </thead>\n",
              "  <tbody>\n",
              "    <tr>\n",
              "      <th>Row Zero</th>\n",
              "      <td>CS101</td>\n",
              "      <td>Aaron</td>\n",
              "      <td>Vera</td>\n",
              "      <td>38.0</td>\n",
              "      <td>9.0</td>\n",
              "    </tr>\n",
              "    <tr>\n",
              "      <th>Row One</th>\n",
              "      <td>CS101</td>\n",
              "      <td>Beth</td>\n",
              "      <td>Carol</td>\n",
              "      <td>NaN</td>\n",
              "      <td>9.0</td>\n",
              "    </tr>\n",
              "    <tr>\n",
              "      <th>2</th>\n",
              "      <td>CS101</td>\n",
              "      <td>Calvin</td>\n",
              "      <td>Andy</td>\n",
              "      <td>28.0</td>\n",
              "      <td>7.0</td>\n",
              "    </tr>\n",
              "    <tr>\n",
              "      <th>3</th>\n",
              "      <td>CS102</td>\n",
              "      <td>Dan</td>\n",
              "      <td>Zidane</td>\n",
              "      <td>39.0</td>\n",
              "      <td>6.0</td>\n",
              "    </tr>\n",
              "    <tr>\n",
              "      <th>4</th>\n",
              "      <td>CS102</td>\n",
              "      <td>Aaron</td>\n",
              "      <td>Andy</td>\n",
              "      <td>32.0</td>\n",
              "      <td>NaN</td>\n",
              "    </tr>\n",
              "  </tbody>\n",
              "</table>\n",
              "</div>"
            ],
            "text/plain": [
              "         ModuleID Instructor Assistant  Enrolment  Rating\n",
              "Row Zero    CS101      Aaron      Vera       38.0     9.0\n",
              "Row One     CS101       Beth     Carol        NaN     9.0\n",
              "2           CS101     Calvin      Andy       28.0     7.0\n",
              "3           CS102        Dan    Zidane       39.0     6.0\n",
              "4           CS102      Aaron      Andy       32.0     NaN"
            ]
          },
          "metadata": {},
          "execution_count": 5
        }
      ]
    },
    {
      "cell_type": "markdown",
      "metadata": {
        "id": "uhtfhZxqj9ov"
      },
      "source": [
        "# 3.8 Selecting Data from a DataFrame"
      ]
    },
    {
      "cell_type": "markdown",
      "metadata": {
        "id": "KnaCBGGhkBlj"
      },
      "source": [
        "## 3.8.1 Selecting Columns"
      ]
    },
    {
      "cell_type": "code",
      "metadata": {
        "colab": {
          "base_uri": "https://localhost:8080/"
        },
        "id": "iFkECe_-jHIc",
        "outputId": "ff9dd97c-f3ea-4102-fc46-1b608beb23d5"
      },
      "source": [
        "X1 = classData['ModuleID']\n",
        "print(type(X1))"
      ],
      "execution_count": 6,
      "outputs": [
        {
          "output_type": "stream",
          "name": "stdout",
          "text": [
            "<class 'pandas.core.series.Series'>\n"
          ]
        }
      ]
    },
    {
      "cell_type": "code",
      "metadata": {
        "id": "ow13JWKRlm6R"
      },
      "source": [
        "X2 = classData[['ModuleID']]\n",
        "X3 = classData[['ModuleID', 'Instructor']]\n",
        "print(type(X2))\n",
        "print(type(X3))\n",
        "X3.head()"
      ],
      "execution_count": null,
      "outputs": []
    },
    {
      "cell_type": "markdown",
      "metadata": {
        "id": "_Fu9mGqXl3JT"
      },
      "source": [
        "## 3.8.2 Selecting rows\n"
      ]
    },
    {
      "cell_type": "markdown",
      "metadata": {
        "id": "aRVz1oViOhu_"
      },
      "source": [
        "### Using Boolean Arrays"
      ]
    },
    {
      "cell_type": "code",
      "metadata": {
        "colab": {
          "base_uri": "https://localhost:8080/"
        },
        "id": "mNc3fVxblo4y",
        "outputId": "1d3c0457-d8cf-452d-a1fc-56c0ccaa26e5"
      },
      "source": [
        "arr1 = classData['ModuleID'] == 'CS101'\n",
        "print(arr1)"
      ],
      "execution_count": 7,
      "outputs": [
        {
          "output_type": "stream",
          "name": "stdout",
          "text": [
            "Row Zero     True\n",
            "Row One      True\n",
            "2            True\n",
            "3           False\n",
            "4           False\n",
            "5           False\n",
            "6           False\n",
            "7           False\n",
            "8           False\n",
            "9           False\n",
            "10          False\n",
            "Name: ModuleID, dtype: bool\n"
          ]
        }
      ]
    },
    {
      "cell_type": "code",
      "metadata": {
        "colab": {
          "base_uri": "https://localhost:8080/",
          "height": 150
        },
        "id": "DA26-7cg9JDO",
        "outputId": "ad8c695e-d53c-4385-c2a7-b89a65990535"
      },
      "source": [
        "classData[arr1]"
      ],
      "execution_count": 8,
      "outputs": [
        {
          "output_type": "execute_result",
          "data": {
            "text/html": [
              "<div>\n",
              "<style scoped>\n",
              "    .dataframe tbody tr th:only-of-type {\n",
              "        vertical-align: middle;\n",
              "    }\n",
              "\n",
              "    .dataframe tbody tr th {\n",
              "        vertical-align: top;\n",
              "    }\n",
              "\n",
              "    .dataframe thead th {\n",
              "        text-align: right;\n",
              "    }\n",
              "</style>\n",
              "<table border=\"1\" class=\"dataframe\">\n",
              "  <thead>\n",
              "    <tr style=\"text-align: right;\">\n",
              "      <th></th>\n",
              "      <th>ModuleID</th>\n",
              "      <th>Instructor</th>\n",
              "      <th>Assistant</th>\n",
              "      <th>Enrolment</th>\n",
              "      <th>Rating</th>\n",
              "    </tr>\n",
              "  </thead>\n",
              "  <tbody>\n",
              "    <tr>\n",
              "      <th>Row Zero</th>\n",
              "      <td>CS101</td>\n",
              "      <td>Aaron</td>\n",
              "      <td>Vera</td>\n",
              "      <td>38.0</td>\n",
              "      <td>9.0</td>\n",
              "    </tr>\n",
              "    <tr>\n",
              "      <th>Row One</th>\n",
              "      <td>CS101</td>\n",
              "      <td>Beth</td>\n",
              "      <td>Carol</td>\n",
              "      <td>NaN</td>\n",
              "      <td>9.0</td>\n",
              "    </tr>\n",
              "    <tr>\n",
              "      <th>2</th>\n",
              "      <td>CS101</td>\n",
              "      <td>Calvin</td>\n",
              "      <td>Andy</td>\n",
              "      <td>28.0</td>\n",
              "      <td>7.0</td>\n",
              "    </tr>\n",
              "  </tbody>\n",
              "</table>\n",
              "</div>"
            ],
            "text/plain": [
              "         ModuleID Instructor Assistant  Enrolment  Rating\n",
              "Row Zero    CS101      Aaron      Vera       38.0     9.0\n",
              "Row One     CS101       Beth     Carol        NaN     9.0\n",
              "2           CS101     Calvin      Andy       28.0     7.0"
            ]
          },
          "metadata": {},
          "execution_count": 8
        }
      ]
    },
    {
      "cell_type": "code",
      "metadata": {
        "colab": {
          "base_uri": "https://localhost:8080/",
          "height": 84
        },
        "id": "_3cZ0otF9N0e",
        "outputId": "a72b1795-96f3-489b-8abb-c096dfcfae5c"
      },
      "source": [
        "arr1 = classData['ModuleID'] == 'CS101'\n",
        "arr2 = classData['Instructor'] == 'Aaron'\n",
        "classData[arr1 & arr2]"
      ],
      "execution_count": 9,
      "outputs": [
        {
          "output_type": "execute_result",
          "data": {
            "text/html": [
              "<div>\n",
              "<style scoped>\n",
              "    .dataframe tbody tr th:only-of-type {\n",
              "        vertical-align: middle;\n",
              "    }\n",
              "\n",
              "    .dataframe tbody tr th {\n",
              "        vertical-align: top;\n",
              "    }\n",
              "\n",
              "    .dataframe thead th {\n",
              "        text-align: right;\n",
              "    }\n",
              "</style>\n",
              "<table border=\"1\" class=\"dataframe\">\n",
              "  <thead>\n",
              "    <tr style=\"text-align: right;\">\n",
              "      <th></th>\n",
              "      <th>ModuleID</th>\n",
              "      <th>Instructor</th>\n",
              "      <th>Assistant</th>\n",
              "      <th>Enrolment</th>\n",
              "      <th>Rating</th>\n",
              "    </tr>\n",
              "  </thead>\n",
              "  <tbody>\n",
              "    <tr>\n",
              "      <th>Row Zero</th>\n",
              "      <td>CS101</td>\n",
              "      <td>Aaron</td>\n",
              "      <td>Vera</td>\n",
              "      <td>38.0</td>\n",
              "      <td>9.0</td>\n",
              "    </tr>\n",
              "  </tbody>\n",
              "</table>\n",
              "</div>"
            ],
            "text/plain": [
              "         ModuleID Instructor Assistant  Enrolment  Rating\n",
              "Row Zero    CS101      Aaron      Vera       38.0     9.0"
            ]
          },
          "metadata": {},
          "execution_count": 9
        }
      ]
    },
    {
      "cell_type": "code",
      "metadata": {
        "colab": {
          "base_uri": "https://localhost:8080/",
          "height": 80
        },
        "id": "dMe-zd4h9RWd",
        "outputId": "4dedd14d-4f23-4999-b04f-2cb2e61eb447"
      },
      "source": [
        "classData[(classData['ModuleID'] == 'CS101') & (classData['Instructor'] == 'Aaron')]"
      ],
      "execution_count": null,
      "outputs": [
        {
          "output_type": "execute_result",
          "data": {
            "text/html": [
              "<div>\n",
              "<style scoped>\n",
              "    .dataframe tbody tr th:only-of-type {\n",
              "        vertical-align: middle;\n",
              "    }\n",
              "\n",
              "    .dataframe tbody tr th {\n",
              "        vertical-align: top;\n",
              "    }\n",
              "\n",
              "    .dataframe thead th {\n",
              "        text-align: right;\n",
              "    }\n",
              "</style>\n",
              "<table border=\"1\" class=\"dataframe\">\n",
              "  <thead>\n",
              "    <tr style=\"text-align: right;\">\n",
              "      <th></th>\n",
              "      <th>ModuleID</th>\n",
              "      <th>Instructor</th>\n",
              "      <th>Assistant</th>\n",
              "      <th>Enrolment</th>\n",
              "      <th>Rating</th>\n",
              "    </tr>\n",
              "  </thead>\n",
              "  <tbody>\n",
              "    <tr>\n",
              "      <th>Row Zero</th>\n",
              "      <td>CS101</td>\n",
              "      <td>Aaron</td>\n",
              "      <td>Vera</td>\n",
              "      <td>38.0</td>\n",
              "      <td>9.0</td>\n",
              "    </tr>\n",
              "  </tbody>\n",
              "</table>\n",
              "</div>"
            ],
            "text/plain": [
              "         ModuleID Instructor Assistant  Enrolment  Rating\n",
              "Row Zero    CS101      Aaron      Vera       38.0     9.0"
            ]
          },
          "metadata": {},
          "execution_count": 15
        }
      ]
    },
    {
      "cell_type": "markdown",
      "metadata": {
        "id": "1U7jK3vJ9iGM"
      },
      "source": [
        "### Using iloc[] or loc[]"
      ]
    },
    {
      "cell_type": "code",
      "metadata": {
        "colab": {
          "base_uri": "https://localhost:8080/"
        },
        "id": "LX9qaBbt9ZIr",
        "outputId": "cd59e6e5-b722-4571-e81b-82530dec4bd3"
      },
      "source": [
        "classData.iloc[0] "
      ],
      "execution_count": 10,
      "outputs": [
        {
          "output_type": "execute_result",
          "data": {
            "text/plain": [
              "ModuleID      CS101\n",
              "Instructor    Aaron\n",
              "Assistant      Vera\n",
              "Enrolment        38\n",
              "Rating            9\n",
              "Name: Row Zero, dtype: object"
            ]
          },
          "metadata": {},
          "execution_count": 10
        }
      ]
    },
    {
      "cell_type": "code",
      "metadata": {
        "colab": {
          "base_uri": "https://localhost:8080/"
        },
        "id": "2r6msDS19wDD",
        "outputId": "f9a78026-a4c7-4f9e-84e5-7772ee0a259e"
      },
      "source": [
        "classData.loc['Row Zero'] "
      ],
      "execution_count": null,
      "outputs": [
        {
          "output_type": "execute_result",
          "data": {
            "text/plain": [
              "ModuleID      CS101\n",
              "Instructor    Aaron\n",
              "Assistant      Vera\n",
              "Enrolment        38\n",
              "Rating            9\n",
              "Name: Row Zero, dtype: object"
            ]
          },
          "metadata": {},
          "execution_count": 17
        }
      ]
    },
    {
      "cell_type": "code",
      "metadata": {
        "colab": {
          "base_uri": "https://localhost:8080/",
          "height": 80
        },
        "id": "B1CvaT0H9yHK",
        "outputId": "8c7d62a6-fbeb-4dd6-e849-d02ed2482c2a"
      },
      "source": [
        "classData.iloc[[0]]"
      ],
      "execution_count": null,
      "outputs": [
        {
          "output_type": "execute_result",
          "data": {
            "text/html": [
              "<div>\n",
              "<style scoped>\n",
              "    .dataframe tbody tr th:only-of-type {\n",
              "        vertical-align: middle;\n",
              "    }\n",
              "\n",
              "    .dataframe tbody tr th {\n",
              "        vertical-align: top;\n",
              "    }\n",
              "\n",
              "    .dataframe thead th {\n",
              "        text-align: right;\n",
              "    }\n",
              "</style>\n",
              "<table border=\"1\" class=\"dataframe\">\n",
              "  <thead>\n",
              "    <tr style=\"text-align: right;\">\n",
              "      <th></th>\n",
              "      <th>ModuleID</th>\n",
              "      <th>Instructor</th>\n",
              "      <th>Assistant</th>\n",
              "      <th>Enrolment</th>\n",
              "      <th>Rating</th>\n",
              "    </tr>\n",
              "  </thead>\n",
              "  <tbody>\n",
              "    <tr>\n",
              "      <th>Row Zero</th>\n",
              "      <td>CS101</td>\n",
              "      <td>Aaron</td>\n",
              "      <td>Vera</td>\n",
              "      <td>38.0</td>\n",
              "      <td>9.0</td>\n",
              "    </tr>\n",
              "  </tbody>\n",
              "</table>\n",
              "</div>"
            ],
            "text/plain": [
              "         ModuleID Instructor Assistant  Enrolment  Rating\n",
              "Row Zero    CS101      Aaron      Vera       38.0     9.0"
            ]
          },
          "metadata": {},
          "execution_count": 18
        }
      ]
    },
    {
      "cell_type": "code",
      "metadata": {
        "colab": {
          "base_uri": "https://localhost:8080/",
          "height": 80
        },
        "id": "UY2xgHM090aC",
        "outputId": "13b4fa5c-6189-4fbe-cb08-49dc53955f00"
      },
      "source": [
        "classData.loc[['Row Zero']]"
      ],
      "execution_count": null,
      "outputs": [
        {
          "output_type": "execute_result",
          "data": {
            "text/html": [
              "<div>\n",
              "<style scoped>\n",
              "    .dataframe tbody tr th:only-of-type {\n",
              "        vertical-align: middle;\n",
              "    }\n",
              "\n",
              "    .dataframe tbody tr th {\n",
              "        vertical-align: top;\n",
              "    }\n",
              "\n",
              "    .dataframe thead th {\n",
              "        text-align: right;\n",
              "    }\n",
              "</style>\n",
              "<table border=\"1\" class=\"dataframe\">\n",
              "  <thead>\n",
              "    <tr style=\"text-align: right;\">\n",
              "      <th></th>\n",
              "      <th>ModuleID</th>\n",
              "      <th>Instructor</th>\n",
              "      <th>Assistant</th>\n",
              "      <th>Enrolment</th>\n",
              "      <th>Rating</th>\n",
              "    </tr>\n",
              "  </thead>\n",
              "  <tbody>\n",
              "    <tr>\n",
              "      <th>Row Zero</th>\n",
              "      <td>CS101</td>\n",
              "      <td>Aaron</td>\n",
              "      <td>Vera</td>\n",
              "      <td>38.0</td>\n",
              "      <td>9.0</td>\n",
              "    </tr>\n",
              "  </tbody>\n",
              "</table>\n",
              "</div>"
            ],
            "text/plain": [
              "         ModuleID Instructor Assistant  Enrolment  Rating\n",
              "Row Zero    CS101      Aaron      Vera       38.0     9.0"
            ]
          },
          "metadata": {},
          "execution_count": 19
        }
      ]
    },
    {
      "cell_type": "code",
      "metadata": {
        "colab": {
          "base_uri": "https://localhost:8080/",
          "height": 143
        },
        "id": "0fIivrJD92MG",
        "outputId": "77d75d96-20ca-43bf-b8f3-7d2e58330af0"
      },
      "source": [
        "classData.iloc[[0, 3, 4]]"
      ],
      "execution_count": null,
      "outputs": [
        {
          "output_type": "execute_result",
          "data": {
            "text/html": [
              "<div>\n",
              "<style scoped>\n",
              "    .dataframe tbody tr th:only-of-type {\n",
              "        vertical-align: middle;\n",
              "    }\n",
              "\n",
              "    .dataframe tbody tr th {\n",
              "        vertical-align: top;\n",
              "    }\n",
              "\n",
              "    .dataframe thead th {\n",
              "        text-align: right;\n",
              "    }\n",
              "</style>\n",
              "<table border=\"1\" class=\"dataframe\">\n",
              "  <thead>\n",
              "    <tr style=\"text-align: right;\">\n",
              "      <th></th>\n",
              "      <th>ModuleID</th>\n",
              "      <th>Instructor</th>\n",
              "      <th>Assistant</th>\n",
              "      <th>Enrolment</th>\n",
              "      <th>Rating</th>\n",
              "    </tr>\n",
              "  </thead>\n",
              "  <tbody>\n",
              "    <tr>\n",
              "      <th>Row Zero</th>\n",
              "      <td>CS101</td>\n",
              "      <td>Aaron</td>\n",
              "      <td>Vera</td>\n",
              "      <td>38.0</td>\n",
              "      <td>9.0</td>\n",
              "    </tr>\n",
              "    <tr>\n",
              "      <th>3</th>\n",
              "      <td>CS102</td>\n",
              "      <td>Dan</td>\n",
              "      <td>Zidane</td>\n",
              "      <td>39.0</td>\n",
              "      <td>6.0</td>\n",
              "    </tr>\n",
              "    <tr>\n",
              "      <th>4</th>\n",
              "      <td>CS102</td>\n",
              "      <td>Aaron</td>\n",
              "      <td>Andy</td>\n",
              "      <td>32.0</td>\n",
              "      <td>NaN</td>\n",
              "    </tr>\n",
              "  </tbody>\n",
              "</table>\n",
              "</div>"
            ],
            "text/plain": [
              "         ModuleID Instructor Assistant  Enrolment  Rating\n",
              "Row Zero    CS101      Aaron      Vera       38.0     9.0\n",
              "3           CS102        Dan    Zidane       39.0     6.0\n",
              "4           CS102      Aaron      Andy       32.0     NaN"
            ]
          },
          "metadata": {
            "tags": []
          },
          "execution_count": 19
        }
      ]
    },
    {
      "cell_type": "code",
      "metadata": {
        "colab": {
          "base_uri": "https://localhost:8080/",
          "height": 142
        },
        "id": "x4yvG4jw94Fx",
        "outputId": "c43e78eb-00dd-4a1c-af3d-21e0b87463da"
      },
      "source": [
        "classData.loc[['Row Zero', 3, 4]]"
      ],
      "execution_count": null,
      "outputs": [
        {
          "output_type": "execute_result",
          "data": {
            "text/html": [
              "<div>\n",
              "<style scoped>\n",
              "    .dataframe tbody tr th:only-of-type {\n",
              "        vertical-align: middle;\n",
              "    }\n",
              "\n",
              "    .dataframe tbody tr th {\n",
              "        vertical-align: top;\n",
              "    }\n",
              "\n",
              "    .dataframe thead th {\n",
              "        text-align: right;\n",
              "    }\n",
              "</style>\n",
              "<table border=\"1\" class=\"dataframe\">\n",
              "  <thead>\n",
              "    <tr style=\"text-align: right;\">\n",
              "      <th></th>\n",
              "      <th>ModuleID</th>\n",
              "      <th>Instructor</th>\n",
              "      <th>Assistant</th>\n",
              "      <th>Enrolment</th>\n",
              "      <th>Rating</th>\n",
              "    </tr>\n",
              "  </thead>\n",
              "  <tbody>\n",
              "    <tr>\n",
              "      <th>Row Zero</th>\n",
              "      <td>CS101</td>\n",
              "      <td>Aaron</td>\n",
              "      <td>Vera</td>\n",
              "      <td>38.0</td>\n",
              "      <td>9.0</td>\n",
              "    </tr>\n",
              "    <tr>\n",
              "      <th>3</th>\n",
              "      <td>CS102</td>\n",
              "      <td>Dan</td>\n",
              "      <td>Zidane</td>\n",
              "      <td>39.0</td>\n",
              "      <td>6.0</td>\n",
              "    </tr>\n",
              "    <tr>\n",
              "      <th>4</th>\n",
              "      <td>CS102</td>\n",
              "      <td>Aaron</td>\n",
              "      <td>Andy</td>\n",
              "      <td>32.0</td>\n",
              "      <td>NaN</td>\n",
              "    </tr>\n",
              "  </tbody>\n",
              "</table>\n",
              "</div>"
            ],
            "text/plain": [
              "         ModuleID Instructor Assistant  Enrolment  Rating\n",
              "Row Zero    CS101      Aaron      Vera       38.0     9.0\n",
              "3           CS102        Dan    Zidane       39.0     6.0\n",
              "4           CS102      Aaron      Andy       32.0     NaN"
            ]
          },
          "metadata": {},
          "execution_count": 20
        }
      ]
    },
    {
      "cell_type": "code",
      "metadata": {
        "colab": {
          "base_uri": "https://localhost:8080/",
          "height": 142
        },
        "id": "FILJDQS597nk",
        "outputId": "33d9c8d8-a7f2-4bcc-8ca9-bb5c322f1d2e"
      },
      "source": [
        "classData.iloc[0:3]"
      ],
      "execution_count": null,
      "outputs": [
        {
          "output_type": "execute_result",
          "data": {
            "text/html": [
              "<div>\n",
              "<style scoped>\n",
              "    .dataframe tbody tr th:only-of-type {\n",
              "        vertical-align: middle;\n",
              "    }\n",
              "\n",
              "    .dataframe tbody tr th {\n",
              "        vertical-align: top;\n",
              "    }\n",
              "\n",
              "    .dataframe thead th {\n",
              "        text-align: right;\n",
              "    }\n",
              "</style>\n",
              "<table border=\"1\" class=\"dataframe\">\n",
              "  <thead>\n",
              "    <tr style=\"text-align: right;\">\n",
              "      <th></th>\n",
              "      <th>ModuleID</th>\n",
              "      <th>Instructor</th>\n",
              "      <th>Assistant</th>\n",
              "      <th>Enrolment</th>\n",
              "      <th>Rating</th>\n",
              "    </tr>\n",
              "  </thead>\n",
              "  <tbody>\n",
              "    <tr>\n",
              "      <th>Row Zero</th>\n",
              "      <td>CS101</td>\n",
              "      <td>Aaron</td>\n",
              "      <td>Vera</td>\n",
              "      <td>38.0</td>\n",
              "      <td>9.0</td>\n",
              "    </tr>\n",
              "    <tr>\n",
              "      <th>Row One</th>\n",
              "      <td>CS101</td>\n",
              "      <td>Beth</td>\n",
              "      <td>Carol</td>\n",
              "      <td>NaN</td>\n",
              "      <td>9.0</td>\n",
              "    </tr>\n",
              "    <tr>\n",
              "      <th>2</th>\n",
              "      <td>CS101</td>\n",
              "      <td>Calvin</td>\n",
              "      <td>Andy</td>\n",
              "      <td>28.0</td>\n",
              "      <td>7.0</td>\n",
              "    </tr>\n",
              "  </tbody>\n",
              "</table>\n",
              "</div>"
            ],
            "text/plain": [
              "         ModuleID Instructor Assistant  Enrolment  Rating\n",
              "Row Zero    CS101      Aaron      Vera       38.0     9.0\n",
              "Row One     CS101       Beth     Carol        NaN     9.0\n",
              "2           CS101     Calvin      Andy       28.0     7.0"
            ]
          },
          "metadata": {},
          "execution_count": 21
        }
      ]
    },
    {
      "cell_type": "markdown",
      "metadata": {
        "id": "J_txZjxlk1Hn"
      },
      "source": [
        "## 3.8.3 Selecting Rows and Columns"
      ]
    },
    {
      "cell_type": "code",
      "metadata": {
        "colab": {
          "base_uri": "https://localhost:8080/",
          "height": 204
        },
        "id": "B1vEeSoVkXOY",
        "outputId": "8da785dd-061e-4764-b94a-28e240640e77"
      },
      "source": [
        "classData.iloc[0:5, 0:2]"
      ],
      "execution_count": null,
      "outputs": [
        {
          "output_type": "execute_result",
          "data": {
            "text/html": [
              "<div>\n",
              "<style scoped>\n",
              "    .dataframe tbody tr th:only-of-type {\n",
              "        vertical-align: middle;\n",
              "    }\n",
              "\n",
              "    .dataframe tbody tr th {\n",
              "        vertical-align: top;\n",
              "    }\n",
              "\n",
              "    .dataframe thead th {\n",
              "        text-align: right;\n",
              "    }\n",
              "</style>\n",
              "<table border=\"1\" class=\"dataframe\">\n",
              "  <thead>\n",
              "    <tr style=\"text-align: right;\">\n",
              "      <th></th>\n",
              "      <th>ModuleID</th>\n",
              "      <th>Instructor</th>\n",
              "    </tr>\n",
              "  </thead>\n",
              "  <tbody>\n",
              "    <tr>\n",
              "      <th>Row Zero</th>\n",
              "      <td>CS101</td>\n",
              "      <td>Aaron</td>\n",
              "    </tr>\n",
              "    <tr>\n",
              "      <th>Row One</th>\n",
              "      <td>CS101</td>\n",
              "      <td>Beth</td>\n",
              "    </tr>\n",
              "    <tr>\n",
              "      <th>2</th>\n",
              "      <td>CS101</td>\n",
              "      <td>Calvin</td>\n",
              "    </tr>\n",
              "    <tr>\n",
              "      <th>3</th>\n",
              "      <td>CS102</td>\n",
              "      <td>Dan</td>\n",
              "    </tr>\n",
              "    <tr>\n",
              "      <th>4</th>\n",
              "      <td>CS102</td>\n",
              "      <td>Aaron</td>\n",
              "    </tr>\n",
              "  </tbody>\n",
              "</table>\n",
              "</div>"
            ],
            "text/plain": [
              "         ModuleID Instructor\n",
              "Row Zero    CS101      Aaron\n",
              "Row One     CS101       Beth\n",
              "2           CS101     Calvin\n",
              "3           CS102        Dan\n",
              "4           CS102      Aaron"
            ]
          },
          "metadata": {},
          "execution_count": 22
        }
      ]
    },
    {
      "cell_type": "code",
      "metadata": {
        "colab": {
          "base_uri": "https://localhost:8080/"
        },
        "id": "bby7wf8BO-U8",
        "outputId": "44737d35-21a7-4386-850d-20398b3df10e"
      },
      "source": [
        "classData.iloc[:, 2]"
      ],
      "execution_count": null,
      "outputs": [
        {
          "output_type": "execute_result",
          "data": {
            "text/plain": [
              "Row Zero      Vera\n",
              "Row One      Carol\n",
              "2             Andy\n",
              "3           Zidane\n",
              "4             Andy\n",
              "5             Vera\n",
              "6              Tim\n",
              "7            Faith\n",
              "8           Wesley\n",
              "9             Vera\n",
              "10             Tim\n",
              "Name: Assistant, dtype: object"
            ]
          },
          "metadata": {
            "tags": []
          },
          "execution_count": 23
        }
      ]
    },
    {
      "cell_type": "code",
      "metadata": {
        "colab": {
          "base_uri": "https://localhost:8080/",
          "height": 390
        },
        "id": "WHikMfZEakcr",
        "outputId": "c047e05b-1edb-4f93-edba-e4770eb18491"
      },
      "source": [
        "classData.iloc[:, [2]]"
      ],
      "execution_count": null,
      "outputs": [
        {
          "output_type": "execute_result",
          "data": {
            "text/html": [
              "<div>\n",
              "<style scoped>\n",
              "    .dataframe tbody tr th:only-of-type {\n",
              "        vertical-align: middle;\n",
              "    }\n",
              "\n",
              "    .dataframe tbody tr th {\n",
              "        vertical-align: top;\n",
              "    }\n",
              "\n",
              "    .dataframe thead th {\n",
              "        text-align: right;\n",
              "    }\n",
              "</style>\n",
              "<table border=\"1\" class=\"dataframe\">\n",
              "  <thead>\n",
              "    <tr style=\"text-align: right;\">\n",
              "      <th></th>\n",
              "      <th>Assistant</th>\n",
              "    </tr>\n",
              "  </thead>\n",
              "  <tbody>\n",
              "    <tr>\n",
              "      <th>Row Zero</th>\n",
              "      <td>Vera</td>\n",
              "    </tr>\n",
              "    <tr>\n",
              "      <th>Row One</th>\n",
              "      <td>Carol</td>\n",
              "    </tr>\n",
              "    <tr>\n",
              "      <th>2</th>\n",
              "      <td>Andy</td>\n",
              "    </tr>\n",
              "    <tr>\n",
              "      <th>3</th>\n",
              "      <td>Zidane</td>\n",
              "    </tr>\n",
              "    <tr>\n",
              "      <th>4</th>\n",
              "      <td>Andy</td>\n",
              "    </tr>\n",
              "    <tr>\n",
              "      <th>5</th>\n",
              "      <td>Vera</td>\n",
              "    </tr>\n",
              "    <tr>\n",
              "      <th>6</th>\n",
              "      <td>Tim</td>\n",
              "    </tr>\n",
              "    <tr>\n",
              "      <th>7</th>\n",
              "      <td>Faith</td>\n",
              "    </tr>\n",
              "    <tr>\n",
              "      <th>8</th>\n",
              "      <td>Wesley</td>\n",
              "    </tr>\n",
              "    <tr>\n",
              "      <th>9</th>\n",
              "      <td>Vera</td>\n",
              "    </tr>\n",
              "    <tr>\n",
              "      <th>10</th>\n",
              "      <td>Tim</td>\n",
              "    </tr>\n",
              "  </tbody>\n",
              "</table>\n",
              "</div>"
            ],
            "text/plain": [
              "         Assistant\n",
              "Row Zero      Vera\n",
              "Row One      Carol\n",
              "2             Andy\n",
              "3           Zidane\n",
              "4             Andy\n",
              "5             Vera\n",
              "6              Tim\n",
              "7            Faith\n",
              "8           Wesley\n",
              "9             Vera\n",
              "10             Tim"
            ]
          },
          "metadata": {},
          "execution_count": 23
        }
      ]
    },
    {
      "cell_type": "code",
      "metadata": {
        "id": "yce902_Vt3Xx",
        "colab": {
          "base_uri": "https://localhost:8080/",
          "height": 390
        },
        "outputId": "37c58196-4926-411d-e9a5-ec14eaafb6b1"
      },
      "source": [
        "classData.iloc[:, 2:3]"
      ],
      "execution_count": null,
      "outputs": [
        {
          "output_type": "execute_result",
          "data": {
            "text/html": [
              "<div>\n",
              "<style scoped>\n",
              "    .dataframe tbody tr th:only-of-type {\n",
              "        vertical-align: middle;\n",
              "    }\n",
              "\n",
              "    .dataframe tbody tr th {\n",
              "        vertical-align: top;\n",
              "    }\n",
              "\n",
              "    .dataframe thead th {\n",
              "        text-align: right;\n",
              "    }\n",
              "</style>\n",
              "<table border=\"1\" class=\"dataframe\">\n",
              "  <thead>\n",
              "    <tr style=\"text-align: right;\">\n",
              "      <th></th>\n",
              "      <th>Assistant</th>\n",
              "    </tr>\n",
              "  </thead>\n",
              "  <tbody>\n",
              "    <tr>\n",
              "      <th>Row Zero</th>\n",
              "      <td>Vera</td>\n",
              "    </tr>\n",
              "    <tr>\n",
              "      <th>Row One</th>\n",
              "      <td>Carol</td>\n",
              "    </tr>\n",
              "    <tr>\n",
              "      <th>2</th>\n",
              "      <td>Andy</td>\n",
              "    </tr>\n",
              "    <tr>\n",
              "      <th>3</th>\n",
              "      <td>Zidane</td>\n",
              "    </tr>\n",
              "    <tr>\n",
              "      <th>4</th>\n",
              "      <td>Andy</td>\n",
              "    </tr>\n",
              "    <tr>\n",
              "      <th>5</th>\n",
              "      <td>Vera</td>\n",
              "    </tr>\n",
              "    <tr>\n",
              "      <th>6</th>\n",
              "      <td>Tim</td>\n",
              "    </tr>\n",
              "    <tr>\n",
              "      <th>7</th>\n",
              "      <td>Faith</td>\n",
              "    </tr>\n",
              "    <tr>\n",
              "      <th>8</th>\n",
              "      <td>Wesley</td>\n",
              "    </tr>\n",
              "    <tr>\n",
              "      <th>9</th>\n",
              "      <td>Vera</td>\n",
              "    </tr>\n",
              "    <tr>\n",
              "      <th>10</th>\n",
              "      <td>Tim</td>\n",
              "    </tr>\n",
              "  </tbody>\n",
              "</table>\n",
              "</div>"
            ],
            "text/plain": [
              "         Assistant\n",
              "Row Zero      Vera\n",
              "Row One      Carol\n",
              "2             Andy\n",
              "3           Zidane\n",
              "4             Andy\n",
              "5             Vera\n",
              "6              Tim\n",
              "7            Faith\n",
              "8           Wesley\n",
              "9             Vera\n",
              "10             Tim"
            ]
          },
          "metadata": {},
          "execution_count": 24
        }
      ]
    },
    {
      "cell_type": "code",
      "metadata": {
        "colab": {
          "base_uri": "https://localhost:8080/",
          "height": 390
        },
        "id": "mF_S8MCpsvAz",
        "outputId": "4a327159-a69d-463a-ba4a-e9f15d5ed75e"
      },
      "source": [
        "classData.iloc[:, :-1]"
      ],
      "execution_count": null,
      "outputs": [
        {
          "output_type": "execute_result",
          "data": {
            "text/html": [
              "<div>\n",
              "<style scoped>\n",
              "    .dataframe tbody tr th:only-of-type {\n",
              "        vertical-align: middle;\n",
              "    }\n",
              "\n",
              "    .dataframe tbody tr th {\n",
              "        vertical-align: top;\n",
              "    }\n",
              "\n",
              "    .dataframe thead th {\n",
              "        text-align: right;\n",
              "    }\n",
              "</style>\n",
              "<table border=\"1\" class=\"dataframe\">\n",
              "  <thead>\n",
              "    <tr style=\"text-align: right;\">\n",
              "      <th></th>\n",
              "      <th>ModuleID</th>\n",
              "      <th>Instructor</th>\n",
              "      <th>Assistant</th>\n",
              "      <th>Enrolment</th>\n",
              "    </tr>\n",
              "  </thead>\n",
              "  <tbody>\n",
              "    <tr>\n",
              "      <th>Row Zero</th>\n",
              "      <td>CS101</td>\n",
              "      <td>Aaron</td>\n",
              "      <td>Vera</td>\n",
              "      <td>38.0</td>\n",
              "    </tr>\n",
              "    <tr>\n",
              "      <th>Row One</th>\n",
              "      <td>CS101</td>\n",
              "      <td>Beth</td>\n",
              "      <td>Carol</td>\n",
              "      <td>NaN</td>\n",
              "    </tr>\n",
              "    <tr>\n",
              "      <th>2</th>\n",
              "      <td>CS101</td>\n",
              "      <td>Calvin</td>\n",
              "      <td>Andy</td>\n",
              "      <td>28.0</td>\n",
              "    </tr>\n",
              "    <tr>\n",
              "      <th>3</th>\n",
              "      <td>CS102</td>\n",
              "      <td>Dan</td>\n",
              "      <td>Zidane</td>\n",
              "      <td>39.0</td>\n",
              "    </tr>\n",
              "    <tr>\n",
              "      <th>4</th>\n",
              "      <td>CS102</td>\n",
              "      <td>Aaron</td>\n",
              "      <td>Andy</td>\n",
              "      <td>32.0</td>\n",
              "    </tr>\n",
              "    <tr>\n",
              "      <th>5</th>\n",
              "      <td>CS102</td>\n",
              "      <td>Beth</td>\n",
              "      <td>Vera</td>\n",
              "      <td>NaN</td>\n",
              "    </tr>\n",
              "    <tr>\n",
              "      <th>6</th>\n",
              "      <td>CS103</td>\n",
              "      <td>Peter</td>\n",
              "      <td>Tim</td>\n",
              "      <td>40.0</td>\n",
              "    </tr>\n",
              "    <tr>\n",
              "      <th>7</th>\n",
              "      <td>CS103</td>\n",
              "      <td>Eve</td>\n",
              "      <td>Faith</td>\n",
              "      <td>39.0</td>\n",
              "    </tr>\n",
              "    <tr>\n",
              "      <th>8</th>\n",
              "      <td>CS103</td>\n",
              "      <td>Gail</td>\n",
              "      <td>Wesley</td>\n",
              "      <td>30.0</td>\n",
              "    </tr>\n",
              "    <tr>\n",
              "      <th>9</th>\n",
              "      <td>CS104</td>\n",
              "      <td>Aaron</td>\n",
              "      <td>Vera</td>\n",
              "      <td>30.0</td>\n",
              "    </tr>\n",
              "    <tr>\n",
              "      <th>10</th>\n",
              "      <td>CS104</td>\n",
              "      <td>Dan</td>\n",
              "      <td>Tim</td>\n",
              "      <td>30.0</td>\n",
              "    </tr>\n",
              "  </tbody>\n",
              "</table>\n",
              "</div>"
            ],
            "text/plain": [
              "         ModuleID Instructor Assistant  Enrolment\n",
              "Row Zero    CS101      Aaron      Vera       38.0\n",
              "Row One     CS101       Beth     Carol        NaN\n",
              "2           CS101     Calvin      Andy       28.0\n",
              "3           CS102        Dan    Zidane       39.0\n",
              "4           CS102      Aaron      Andy       32.0\n",
              "5           CS102       Beth      Vera        NaN\n",
              "6           CS103      Peter       Tim       40.0\n",
              "7           CS103        Eve     Faith       39.0\n",
              "8           CS103       Gail    Wesley       30.0\n",
              "9           CS104      Aaron      Vera       30.0\n",
              "10          CS104        Dan       Tim       30.0"
            ]
          },
          "metadata": {},
          "execution_count": 25
        }
      ]
    },
    {
      "cell_type": "markdown",
      "metadata": {
        "id": "PpygTQlnq42E"
      },
      "source": [
        "# 3.9 Updating a DataFrame"
      ]
    },
    {
      "cell_type": "code",
      "metadata": {
        "id": "tT0fg7fY-ZXa"
      },
      "source": [
        "classData['AverageGPA'] = [44, 46, 47, 41, 45, 49, 40, 41, 45, 48, 42]"
      ],
      "execution_count": null,
      "outputs": []
    },
    {
      "cell_type": "code",
      "metadata": {
        "id": "PxAyIMnWvHFr"
      },
      "source": [
        "classData['AverageGPA'] = classData['AverageGPA']*0.1"
      ],
      "execution_count": null,
      "outputs": []
    },
    {
      "cell_type": "code",
      "metadata": {
        "id": "4kuRCogtkLU5"
      },
      "source": [
        "classData.head()"
      ],
      "execution_count": null,
      "outputs": []
    },
    {
      "cell_type": "markdown",
      "metadata": {
        "id": "FkOUkee-0-P1"
      },
      "source": [
        "# 3.10 Useful Methods in pandas"
      ]
    },
    {
      "cell_type": "code",
      "metadata": {
        "id": "0mUuVxyXzJ5R"
      },
      "source": [
        "classData.sort_values(['Rating', 'AverageGPA'], ascending=False)"
      ],
      "execution_count": null,
      "outputs": []
    },
    {
      "cell_type": "code",
      "metadata": {
        "colab": {
          "base_uri": "https://localhost:8080/"
        },
        "id": "iWBwSOtu1RHI",
        "outputId": "7c78fed0-9096-45cd-ca17-b9774115271d"
      },
      "source": [
        "import numpy as np\n",
        "myData = pd.DataFrame([[None], [np.NaN], [''], ['Apple']], columns = ['A'])\n",
        "print(myData.isnull())"
      ],
      "execution_count": null,
      "outputs": [
        {
          "output_type": "stream",
          "name": "stdout",
          "text": [
            "       A\n",
            "0   True\n",
            "1   True\n",
            "2  False\n",
            "3  False\n"
          ]
        }
      ]
    },
    {
      "cell_type": "code",
      "metadata": {
        "colab": {
          "base_uri": "https://localhost:8080/"
        },
        "id": "ifW_v6TB1aT0",
        "outputId": "beae2d68-3d11-4f7e-c420-fb9188188f99"
      },
      "source": [
        "myData.isnull().sum()"
      ],
      "execution_count": null,
      "outputs": [
        {
          "output_type": "execute_result",
          "data": {
            "text/plain": [
              "A    2\n",
              "dtype: int64"
            ]
          },
          "metadata": {},
          "execution_count": 31
        }
      ]
    },
    {
      "cell_type": "code",
      "metadata": {
        "colab": {
          "base_uri": "https://localhost:8080/"
        },
        "id": "YpCi1Jgl1gCz",
        "outputId": "ec0e974a-f758-4aef-94fe-584a08f1fdd5"
      },
      "source": [
        "classData.isnull().sum()"
      ],
      "execution_count": null,
      "outputs": [
        {
          "output_type": "execute_result",
          "data": {
            "text/plain": [
              "ModuleID      0\n",
              "Instructor    0\n",
              "Assistant     0\n",
              "Enrolment     2\n",
              "Rating        3\n",
              "AverageGPA    0\n",
              "dtype: int64"
            ]
          },
          "metadata": {},
          "execution_count": 32
        }
      ]
    },
    {
      "cell_type": "code",
      "metadata": {
        "id": "dEuIADom1vA1"
      },
      "source": [
        "classData_rows_deleted = classData.dropna()\n",
        "classData_columns_deleted  = classData.dropna(axis=1)"
      ],
      "execution_count": null,
      "outputs": []
    },
    {
      "cell_type": "code",
      "metadata": {
        "id": "84aVMQhckm-j"
      },
      "source": [
        "classData_rows_deleted"
      ],
      "execution_count": null,
      "outputs": []
    },
    {
      "cell_type": "code",
      "metadata": {
        "colab": {
          "base_uri": "https://localhost:8080/",
          "height": 390
        },
        "id": "MfjYVhWdkufU",
        "outputId": "58664752-7361-4863-d708-a5835bea5158"
      },
      "source": [
        "classData_columns_deleted"
      ],
      "execution_count": null,
      "outputs": [
        {
          "output_type": "execute_result",
          "data": {
            "text/html": [
              "<div>\n",
              "<style scoped>\n",
              "    .dataframe tbody tr th:only-of-type {\n",
              "        vertical-align: middle;\n",
              "    }\n",
              "\n",
              "    .dataframe tbody tr th {\n",
              "        vertical-align: top;\n",
              "    }\n",
              "\n",
              "    .dataframe thead th {\n",
              "        text-align: right;\n",
              "    }\n",
              "</style>\n",
              "<table border=\"1\" class=\"dataframe\">\n",
              "  <thead>\n",
              "    <tr style=\"text-align: right;\">\n",
              "      <th></th>\n",
              "      <th>ModuleID</th>\n",
              "      <th>Instructor</th>\n",
              "      <th>Assistant</th>\n",
              "      <th>AverageGPA</th>\n",
              "    </tr>\n",
              "  </thead>\n",
              "  <tbody>\n",
              "    <tr>\n",
              "      <th>Row Zero</th>\n",
              "      <td>CS101</td>\n",
              "      <td>Aaron</td>\n",
              "      <td>Vera</td>\n",
              "      <td>4.4</td>\n",
              "    </tr>\n",
              "    <tr>\n",
              "      <th>Row One</th>\n",
              "      <td>CS101</td>\n",
              "      <td>Beth</td>\n",
              "      <td>Carol</td>\n",
              "      <td>4.6</td>\n",
              "    </tr>\n",
              "    <tr>\n",
              "      <th>2</th>\n",
              "      <td>CS101</td>\n",
              "      <td>Calvin</td>\n",
              "      <td>Andy</td>\n",
              "      <td>4.7</td>\n",
              "    </tr>\n",
              "    <tr>\n",
              "      <th>3</th>\n",
              "      <td>CS102</td>\n",
              "      <td>Dan</td>\n",
              "      <td>Zidane</td>\n",
              "      <td>4.1</td>\n",
              "    </tr>\n",
              "    <tr>\n",
              "      <th>4</th>\n",
              "      <td>CS102</td>\n",
              "      <td>Aaron</td>\n",
              "      <td>Andy</td>\n",
              "      <td>4.5</td>\n",
              "    </tr>\n",
              "    <tr>\n",
              "      <th>5</th>\n",
              "      <td>CS102</td>\n",
              "      <td>Beth</td>\n",
              "      <td>Vera</td>\n",
              "      <td>4.9</td>\n",
              "    </tr>\n",
              "    <tr>\n",
              "      <th>6</th>\n",
              "      <td>CS103</td>\n",
              "      <td>Peter</td>\n",
              "      <td>Tim</td>\n",
              "      <td>4.0</td>\n",
              "    </tr>\n",
              "    <tr>\n",
              "      <th>7</th>\n",
              "      <td>CS103</td>\n",
              "      <td>Eve</td>\n",
              "      <td>Faith</td>\n",
              "      <td>4.1</td>\n",
              "    </tr>\n",
              "    <tr>\n",
              "      <th>8</th>\n",
              "      <td>CS103</td>\n",
              "      <td>Gail</td>\n",
              "      <td>Wesley</td>\n",
              "      <td>4.5</td>\n",
              "    </tr>\n",
              "    <tr>\n",
              "      <th>9</th>\n",
              "      <td>CS104</td>\n",
              "      <td>Aaron</td>\n",
              "      <td>Vera</td>\n",
              "      <td>4.8</td>\n",
              "    </tr>\n",
              "    <tr>\n",
              "      <th>10</th>\n",
              "      <td>CS104</td>\n",
              "      <td>Dan</td>\n",
              "      <td>Tim</td>\n",
              "      <td>4.2</td>\n",
              "    </tr>\n",
              "  </tbody>\n",
              "</table>\n",
              "</div>"
            ],
            "text/plain": [
              "         ModuleID Instructor Assistant  AverageGPA\n",
              "Row Zero    CS101      Aaron      Vera         4.4\n",
              "Row One     CS101       Beth     Carol         4.6\n",
              "2           CS101     Calvin      Andy         4.7\n",
              "3           CS102        Dan    Zidane         4.1\n",
              "4           CS102      Aaron      Andy         4.5\n",
              "5           CS102       Beth      Vera         4.9\n",
              "6           CS103      Peter       Tim         4.0\n",
              "7           CS103        Eve     Faith         4.1\n",
              "8           CS103       Gail    Wesley         4.5\n",
              "9           CS104      Aaron      Vera         4.8\n",
              "10          CS104        Dan       Tim         4.2"
            ]
          },
          "metadata": {},
          "execution_count": 35
        }
      ]
    },
    {
      "cell_type": "code",
      "metadata": {
        "colab": {
          "base_uri": "https://localhost:8080/"
        },
        "id": "9YJzxbcm18oI",
        "outputId": "9d794deb-cb93-4e94-d321-af36c2d7905d"
      },
      "source": [
        "myData2 = pd.DataFrame([[1, 2], [3, 4]], columns = ['A', 'B'])\n",
        "myArr = myData2.to_numpy()\n",
        "\n",
        "print(type(myData2))\n",
        "print(myData2)\n",
        "print(type(myArr))\n",
        "print(myArr)"
      ],
      "execution_count": null,
      "outputs": [
        {
          "output_type": "stream",
          "name": "stdout",
          "text": [
            "<class 'pandas.core.frame.DataFrame'>\n",
            "   A  B\n",
            "0  1  2\n",
            "1  3  4\n",
            "<class 'numpy.ndarray'>\n",
            "[[1 2]\n",
            " [3 4]]\n"
          ]
        }
      ]
    },
    {
      "cell_type": "code",
      "metadata": {
        "id": "kXqyOJMzZGpX",
        "colab": {
          "base_uri": "https://localhost:8080/",
          "height": 173
        },
        "outputId": "89db7263-91ea-4401-b24b-1cd017a31795"
      },
      "source": [
        "myData3 = pd.DataFrame({'A':[1, 4, 7, 10], 'B':[1, 2, 3, 4], 'C':[2, 12, 1, 5]})\n",
        "myData3"
      ],
      "execution_count": null,
      "outputs": [
        {
          "output_type": "execute_result",
          "data": {
            "text/html": [
              "<div>\n",
              "<style scoped>\n",
              "    .dataframe tbody tr th:only-of-type {\n",
              "        vertical-align: middle;\n",
              "    }\n",
              "\n",
              "    .dataframe tbody tr th {\n",
              "        vertical-align: top;\n",
              "    }\n",
              "\n",
              "    .dataframe thead th {\n",
              "        text-align: right;\n",
              "    }\n",
              "</style>\n",
              "<table border=\"1\" class=\"dataframe\">\n",
              "  <thead>\n",
              "    <tr style=\"text-align: right;\">\n",
              "      <th></th>\n",
              "      <th>A</th>\n",
              "      <th>B</th>\n",
              "      <th>C</th>\n",
              "    </tr>\n",
              "  </thead>\n",
              "  <tbody>\n",
              "    <tr>\n",
              "      <th>0</th>\n",
              "      <td>1</td>\n",
              "      <td>1</td>\n",
              "      <td>2</td>\n",
              "    </tr>\n",
              "    <tr>\n",
              "      <th>1</th>\n",
              "      <td>4</td>\n",
              "      <td>2</td>\n",
              "      <td>12</td>\n",
              "    </tr>\n",
              "    <tr>\n",
              "      <th>2</th>\n",
              "      <td>7</td>\n",
              "      <td>3</td>\n",
              "      <td>1</td>\n",
              "    </tr>\n",
              "    <tr>\n",
              "      <th>3</th>\n",
              "      <td>10</td>\n",
              "      <td>4</td>\n",
              "      <td>5</td>\n",
              "    </tr>\n",
              "  </tbody>\n",
              "</table>\n",
              "</div>"
            ],
            "text/plain": [
              "    A  B   C\n",
              "0   1  1   2\n",
              "1   4  2  12\n",
              "2   7  3   1\n",
              "3  10  4   5"
            ]
          },
          "metadata": {},
          "execution_count": 41
        }
      ]
    },
    {
      "cell_type": "code",
      "metadata": {
        "id": "jQwZDxtiZXU2",
        "colab": {
          "base_uri": "https://localhost:8080/",
          "height": 142
        },
        "outputId": "b26c8b9e-d2cf-4362-cd02-7f81818800c8"
      },
      "source": [
        "myData3.corr()"
      ],
      "execution_count": null,
      "outputs": [
        {
          "output_type": "execute_result",
          "data": {
            "text/html": [
              "<div>\n",
              "<style scoped>\n",
              "    .dataframe tbody tr th:only-of-type {\n",
              "        vertical-align: middle;\n",
              "    }\n",
              "\n",
              "    .dataframe tbody tr th {\n",
              "        vertical-align: top;\n",
              "    }\n",
              "\n",
              "    .dataframe thead th {\n",
              "        text-align: right;\n",
              "    }\n",
              "</style>\n",
              "<table border=\"1\" class=\"dataframe\">\n",
              "  <thead>\n",
              "    <tr style=\"text-align: right;\">\n",
              "      <th></th>\n",
              "      <th>A</th>\n",
              "      <th>B</th>\n",
              "      <th>C</th>\n",
              "    </tr>\n",
              "  </thead>\n",
              "  <tbody>\n",
              "    <tr>\n",
              "      <th>A</th>\n",
              "      <td>1.000000</td>\n",
              "      <td>1.000000</td>\n",
              "      <td>-0.051988</td>\n",
              "    </tr>\n",
              "    <tr>\n",
              "      <th>B</th>\n",
              "      <td>1.000000</td>\n",
              "      <td>1.000000</td>\n",
              "      <td>-0.051988</td>\n",
              "    </tr>\n",
              "    <tr>\n",
              "      <th>C</th>\n",
              "      <td>-0.051988</td>\n",
              "      <td>-0.051988</td>\n",
              "      <td>1.000000</td>\n",
              "    </tr>\n",
              "  </tbody>\n",
              "</table>\n",
              "</div>"
            ],
            "text/plain": [
              "          A         B         C\n",
              "A  1.000000  1.000000 -0.051988\n",
              "B  1.000000  1.000000 -0.051988\n",
              "C -0.051988 -0.051988  1.000000"
            ]
          },
          "metadata": {},
          "execution_count": 38
        }
      ]
    },
    {
      "cell_type": "code",
      "metadata": {
        "id": "Gu6gIvVQkN6d"
      },
      "source": [
        ""
      ],
      "execution_count": null,
      "outputs": []
    }
  ]
}