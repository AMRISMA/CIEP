{
  "nbformat": 4,
  "nbformat_minor": 0,
  "metadata": {
    "colab": {
      "name": "2. ScikitLearn",
      "provenance": [],
      "authorship_tag": "ABX9TyO9Axb6zCS6Z5sqkMk8HmK/",
      "include_colab_link": true
    },
    "kernelspec": {
      "name": "python3",
      "display_name": "Python 3"
    },
    "language_info": {
      "name": "python"
    }
  },
  "cells": [
    {
      "cell_type": "markdown",
      "metadata": {
        "id": "view-in-github",
        "colab_type": "text"
      },
      "source": [
        "<a href=\"https://colab.research.google.com/github/AMRISMA/DataScience/blob/master/2_ScikitLearn.ipynb\" target=\"_parent\"><img src=\"https://colab.research.google.com/assets/colab-badge.svg\" alt=\"Open In Colab\"/></a>"
      ]
    },
    {
      "cell_type": "markdown",
      "metadata": {
        "id": "pBW0dIunM3uF"
      },
      "source": [
        "\n",
        "Data Preprocessing with ScikitLearn\n",
        "```\n",
        "# This is formatted as code\n",
        "```\n",
        "\n"
      ]
    },
    {
      "cell_type": "code",
      "metadata": {
        "colab": {
          "base_uri": "https://localhost:8080/",
          "height": 216
        },
        "id": "AwOn4V5RMrdc",
        "outputId": "56932813-04cf-40ce-de13-e44cb0b089a0"
      },
      "source": [
        "import pandas as pd \n",
        "import numpy as np \n",
        "df = pd.read_csv('datapreprocessing.csv')\n",
        "df"
      ],
      "execution_count": null,
      "outputs": [
        {
          "output_type": "execute_result",
          "data": {
            "text/html": [
              "<div>\n",
              "<style scoped>\n",
              "    .dataframe tbody tr th:only-of-type {\n",
              "        vertical-align: middle;\n",
              "    }\n",
              "\n",
              "    .dataframe tbody tr th {\n",
              "        vertical-align: top;\n",
              "    }\n",
              "\n",
              "    .dataframe thead th {\n",
              "        text-align: right;\n",
              "    }\n",
              "</style>\n",
              "<table border=\"1\" class=\"dataframe\">\n",
              "  <thead>\n",
              "    <tr style=\"text-align: right;\">\n",
              "      <th></th>\n",
              "      <th>Color</th>\n",
              "      <th>Years</th>\n",
              "      <th>Strength</th>\n",
              "      <th>Height</th>\n",
              "      <th>Weight</th>\n",
              "      <th>Dangerous</th>\n",
              "    </tr>\n",
              "  </thead>\n",
              "  <tbody>\n",
              "    <tr>\n",
              "      <th>0</th>\n",
              "      <td>Green</td>\n",
              "      <td>2.3</td>\n",
              "      <td>210.0</td>\n",
              "      <td>170.0</td>\n",
              "      <td>20 to 30 kg</td>\n",
              "      <td>Yes</td>\n",
              "    </tr>\n",
              "    <tr>\n",
              "      <th>1</th>\n",
              "      <td>Red</td>\n",
              "      <td>4.1</td>\n",
              "      <td>100.0</td>\n",
              "      <td>NaN</td>\n",
              "      <td>10 to 20 kg</td>\n",
              "      <td>No</td>\n",
              "    </tr>\n",
              "    <tr>\n",
              "      <th>2</th>\n",
              "      <td>Blue</td>\n",
              "      <td>1.4</td>\n",
              "      <td>NaN</td>\n",
              "      <td>412.0</td>\n",
              "      <td>0 to 10 kg</td>\n",
              "      <td>No</td>\n",
              "    </tr>\n",
              "    <tr>\n",
              "      <th>3</th>\n",
              "      <td>Green</td>\n",
              "      <td>NaN</td>\n",
              "      <td>313.0</td>\n",
              "      <td>123.0</td>\n",
              "      <td>10 to 20 kg</td>\n",
              "      <td>Yes</td>\n",
              "    </tr>\n",
              "    <tr>\n",
              "      <th>4</th>\n",
              "      <td>NaN</td>\n",
              "      <td>5.2</td>\n",
              "      <td>512.0</td>\n",
              "      <td>372.0</td>\n",
              "      <td>0 to 10 kg</td>\n",
              "      <td>Yes</td>\n",
              "    </tr>\n",
              "  </tbody>\n",
              "</table>\n",
              "</div>"
            ],
            "text/plain": [
              "   Color  Years  Strength  Height       Weight Dangerous\n",
              "0  Green    2.3     210.0   170.0  20 to 30 kg       Yes\n",
              "1    Red    4.1     100.0     NaN  10 to 20 kg        No\n",
              "2   Blue    1.4       NaN   412.0   0 to 10 kg        No\n",
              "3  Green    NaN     313.0   123.0  10 to 20 kg       Yes\n",
              "4    NaN    5.2     512.0   372.0   0 to 10 kg       Yes"
            ]
          },
          "metadata": {},
          "execution_count": 5
        }
      ]
    },
    {
      "cell_type": "markdown",
      "metadata": {
        "id": "Edj7hf11QXzm"
      },
      "source": [
        "First, we import the SimpleImputer class. "
      ]
    },
    {
      "cell_type": "code",
      "metadata": {
        "id": "9NFkl5b5PPUa"
      },
      "source": [
        "#Importing the SimpleImputer class\n",
        "from sklearn.impute import SimpleImputer\n"
      ],
      "execution_count": null,
      "outputs": []
    },
    {
      "cell_type": "markdown",
      "metadata": {
        "id": "Nu-p46q2QiV6"
      },
      "source": [
        "\n",
        "Next, we instantiate a SimpleImputer object called imp , passing two parameters - missing_values and strategy - to the constructor.\n",
        "\n"
      ]
    },
    {
      "cell_type": "code",
      "metadata": {
        "id": "xItmTXMfPbED"
      },
      "source": [
        "# Instantiating a SimpleImputer object\n",
        "imp = SimpleImputer(missing_values=np.nan, strategy='mean')"
      ],
      "execution_count": null,
      "outputs": []
    },
    {
      "cell_type": "markdown",
      "metadata": {
        "id": "sKBHRHnvRY3A"
      },
      "source": [
        "After instantiating the SimpleImputer object, we use it to call the fit() method, passing df[['Years', 'Strength', 'Height']] to the method. This method expects a 2-dimensional array and calculates the means of the columns in the array; it stores the results in the statistics_ attribute."
      ]
    },
    {
      "cell_type": "code",
      "metadata": {
        "colab": {
          "base_uri": "https://localhost:8080/"
        },
        "id": "Hg1ZbAzNPlyo",
        "outputId": "bfdff0dc-ca31-424e-c653-8530564f0a51"
      },
      "source": [
        "# Calling the fit() method to calculate the means\n",
        "imp.fit(df[['Years', 'Strength', 'Height']])"
      ],
      "execution_count": null,
      "outputs": [
        {
          "output_type": "execute_result",
          "data": {
            "text/plain": [
              "SimpleImputer()"
            ]
          },
          "metadata": {},
          "execution_count": 6
        }
      ]
    },
    {
      "cell_type": "code",
      "metadata": {
        "colab": {
          "base_uri": "https://localhost:8080/"
        },
        "id": "t_UMow_LP4id",
        "outputId": "184c1b10-ea6d-4128-94fa-a785439cb706"
      },
      "source": [
        "print(imp.statistics_)"
      ],
      "execution_count": null,
      "outputs": [
        {
          "output_type": "stream",
          "name": "stdout",
          "text": [
            "[  3.25 283.75 269.25]\n"
          ]
        }
      ]
    },
    {
      "cell_type": "markdown",
      "metadata": {
        "id": "w1cM9n1CRhzx"
      },
      "source": [
        "3.25 is the mean of the first feature ( Years ), while 283.75 and 269.25 are the means of the second and third features ( Strength and Height ), respectively\n"
      ]
    },
    {
      "cell_type": "markdown",
      "metadata": {
        "id": "IvXLcV4KRx0I"
      },
      "source": [
        "After calculating the means, we pass df[['Years', 'Strength', 'Height']] to the transform() method to get a new dataset with the missing values replaced. This method uses the means stored in statistics_ to do the replacement and returns a transformed dataset, which we assign back to df[['Years', 'Strength', 'Height']]"
      ]
    },
    {
      "cell_type": "code",
      "metadata": {
        "id": "YE8P6hjFPrxr"
      },
      "source": [
        "# transforming the data\n",
        "df[['Years', 'Strength', 'Height']] = imp.transform(df[['Years', 'Strength', 'Height']])"
      ],
      "execution_count": null,
      "outputs": []
    },
    {
      "cell_type": "code",
      "metadata": {
        "colab": {
          "base_uri": "https://localhost:8080/",
          "height": 204
        },
        "id": "IHhpMD0HP762",
        "outputId": "d6553709-74b9-435b-8143-ac5ebaad7233"
      },
      "source": [
        "df"
      ],
      "execution_count": null,
      "outputs": [
        {
          "output_type": "execute_result",
          "data": {
            "text/html": [
              "<div>\n",
              "<style scoped>\n",
              "    .dataframe tbody tr th:only-of-type {\n",
              "        vertical-align: middle;\n",
              "    }\n",
              "\n",
              "    .dataframe tbody tr th {\n",
              "        vertical-align: top;\n",
              "    }\n",
              "\n",
              "    .dataframe thead th {\n",
              "        text-align: right;\n",
              "    }\n",
              "</style>\n",
              "<table border=\"1\" class=\"dataframe\">\n",
              "  <thead>\n",
              "    <tr style=\"text-align: right;\">\n",
              "      <th></th>\n",
              "      <th>Color</th>\n",
              "      <th>Years</th>\n",
              "      <th>Strength</th>\n",
              "      <th>Height</th>\n",
              "      <th>Weight</th>\n",
              "      <th>Dangerous</th>\n",
              "    </tr>\n",
              "  </thead>\n",
              "  <tbody>\n",
              "    <tr>\n",
              "      <th>0</th>\n",
              "      <td>Green</td>\n",
              "      <td>2.30</td>\n",
              "      <td>210.00</td>\n",
              "      <td>170.00</td>\n",
              "      <td>20 to 30 kg</td>\n",
              "      <td>Yes</td>\n",
              "    </tr>\n",
              "    <tr>\n",
              "      <th>1</th>\n",
              "      <td>Red</td>\n",
              "      <td>4.10</td>\n",
              "      <td>100.00</td>\n",
              "      <td>269.25</td>\n",
              "      <td>10 to 20 kg</td>\n",
              "      <td>No</td>\n",
              "    </tr>\n",
              "    <tr>\n",
              "      <th>2</th>\n",
              "      <td>Blue</td>\n",
              "      <td>1.40</td>\n",
              "      <td>283.75</td>\n",
              "      <td>412.00</td>\n",
              "      <td>0 to 10 kg</td>\n",
              "      <td>No</td>\n",
              "    </tr>\n",
              "    <tr>\n",
              "      <th>3</th>\n",
              "      <td>Green</td>\n",
              "      <td>3.25</td>\n",
              "      <td>313.00</td>\n",
              "      <td>123.00</td>\n",
              "      <td>10 to 20 kg</td>\n",
              "      <td>Yes</td>\n",
              "    </tr>\n",
              "    <tr>\n",
              "      <th>4</th>\n",
              "      <td>NaN</td>\n",
              "      <td>5.20</td>\n",
              "      <td>512.00</td>\n",
              "      <td>372.00</td>\n",
              "      <td>0 to 10 kg</td>\n",
              "      <td>Yes</td>\n",
              "    </tr>\n",
              "  </tbody>\n",
              "</table>\n",
              "</div>"
            ],
            "text/plain": [
              "   Color  Years  Strength  Height       Weight Dangerous\n",
              "0  Green   2.30    210.00  170.00  20 to 30 kg       Yes\n",
              "1    Red   4.10    100.00  269.25  10 to 20 kg        No\n",
              "2   Blue   1.40    283.75  412.00   0 to 10 kg        No\n",
              "3  Green   3.25    313.00  123.00  10 to 20 kg       Yes\n",
              "4    NaN   5.20    512.00  372.00   0 to 10 kg       Yes"
            ]
          },
          "metadata": {},
          "execution_count": 9
        }
      ]
    },
    {
      "cell_type": "markdown",
      "metadata": {
        "id": "oD5WG8XhR6_5"
      },
      "source": [
        "The missing value is now replaced\n"
      ]
    },
    {
      "cell_type": "markdown",
      "metadata": {
        "id": "qswkatMgSDSE"
      },
      "source": [
        "Your task: \n",
        "\n",
        "Let us now fill in the missing value in the colour column using most frequent strategy"
      ]
    },
    {
      "cell_type": "code",
      "metadata": {
        "id": "_onDbq73SQtU"
      },
      "source": [
        "imp.set_params(strategy='most_frequent')\n",
        "imp.fit(df[['Color']])\n",
        "df[['Color']] = imp.transform (df[['Color']])"
      ],
      "execution_count": null,
      "outputs": []
    },
    {
      "cell_type": "code",
      "metadata": {
        "colab": {
          "base_uri": "https://localhost:8080/",
          "height": 204
        },
        "id": "i5G37eVNTNkc",
        "outputId": "c77f710c-3454-4b28-a699-9da4bba6c4e4"
      },
      "source": [
        "df"
      ],
      "execution_count": null,
      "outputs": [
        {
          "output_type": "execute_result",
          "data": {
            "text/html": [
              "<div>\n",
              "<style scoped>\n",
              "    .dataframe tbody tr th:only-of-type {\n",
              "        vertical-align: middle;\n",
              "    }\n",
              "\n",
              "    .dataframe tbody tr th {\n",
              "        vertical-align: top;\n",
              "    }\n",
              "\n",
              "    .dataframe thead th {\n",
              "        text-align: right;\n",
              "    }\n",
              "</style>\n",
              "<table border=\"1\" class=\"dataframe\">\n",
              "  <thead>\n",
              "    <tr style=\"text-align: right;\">\n",
              "      <th></th>\n",
              "      <th>Color</th>\n",
              "      <th>Years</th>\n",
              "      <th>Strength</th>\n",
              "      <th>Height</th>\n",
              "      <th>Weight</th>\n",
              "      <th>Dangerous</th>\n",
              "    </tr>\n",
              "  </thead>\n",
              "  <tbody>\n",
              "    <tr>\n",
              "      <th>0</th>\n",
              "      <td>Green</td>\n",
              "      <td>2.30</td>\n",
              "      <td>210.00</td>\n",
              "      <td>170.00</td>\n",
              "      <td>20 to 30 kg</td>\n",
              "      <td>Yes</td>\n",
              "    </tr>\n",
              "    <tr>\n",
              "      <th>1</th>\n",
              "      <td>Red</td>\n",
              "      <td>4.10</td>\n",
              "      <td>100.00</td>\n",
              "      <td>269.25</td>\n",
              "      <td>10 to 20 kg</td>\n",
              "      <td>No</td>\n",
              "    </tr>\n",
              "    <tr>\n",
              "      <th>2</th>\n",
              "      <td>Blue</td>\n",
              "      <td>1.40</td>\n",
              "      <td>283.75</td>\n",
              "      <td>412.00</td>\n",
              "      <td>0 to 10 kg</td>\n",
              "      <td>No</td>\n",
              "    </tr>\n",
              "    <tr>\n",
              "      <th>3</th>\n",
              "      <td>Green</td>\n",
              "      <td>3.25</td>\n",
              "      <td>313.00</td>\n",
              "      <td>123.00</td>\n",
              "      <td>10 to 20 kg</td>\n",
              "      <td>Yes</td>\n",
              "    </tr>\n",
              "    <tr>\n",
              "      <th>4</th>\n",
              "      <td>Green</td>\n",
              "      <td>5.20</td>\n",
              "      <td>512.00</td>\n",
              "      <td>372.00</td>\n",
              "      <td>0 to 10 kg</td>\n",
              "      <td>Yes</td>\n",
              "    </tr>\n",
              "  </tbody>\n",
              "</table>\n",
              "</div>"
            ],
            "text/plain": [
              "   Color  Years  Strength  Height       Weight Dangerous\n",
              "0  Green   2.30    210.00  170.00  20 to 30 kg       Yes\n",
              "1    Red   4.10    100.00  269.25  10 to 20 kg        No\n",
              "2   Blue   1.40    283.75  412.00   0 to 10 kg        No\n",
              "3  Green   3.25    313.00  123.00  10 to 20 kg       Yes\n",
              "4  Green   5.20    512.00  372.00   0 to 10 kg       Yes"
            ]
          },
          "metadata": {},
          "execution_count": 11
        }
      ]
    },
    {
      "cell_type": "markdown",
      "metadata": {
        "id": "tfvkN_VSTLa2"
      },
      "source": [
        "Now u are ready to go !!"
      ]
    },
    {
      "cell_type": "markdown",
      "metadata": {
        "id": "WdBQBwxIUQEf"
      },
      "source": [
        "Encoding Categorical Data"
      ]
    },
    {
      "cell_type": "markdown",
      "metadata": {
        "id": "JMzjgW3TUzZ1"
      },
      "source": [
        "The two classes are very similar, except that OrdinalEncoder is designed to work with the features of a dataset, while LabelEncoder is designed to work with the labels. Therefore, the fit() method of the LabelEncoder class expects a 1D array, while that of the OrdinalEncoder class expects a 2D array.\n"
      ]
    },
    {
      "cell_type": "code",
      "metadata": {
        "id": "VSz-HO7dUS3C"
      },
      "source": [
        "from sklearn.preprocessing import LabelEncoder\n",
        "le = LabelEncoder()\n",
        "df['Dangerous'] = le.fit_transform(df['Dangerous'])"
      ],
      "execution_count": null,
      "outputs": []
    },
    {
      "cell_type": "markdown",
      "metadata": {
        "id": "ncXpmjDTU6Hq"
      },
      "source": [
        "Here, we first import the LabelEncoder class and instantiate a LabelEncoder object. Next, we use it to call the fit_transform() method, passing a 1D array ( df['Dangerous'] ) to the method. This method returns a NumPy array, which we assign back to the Dangerous column.\n",
        "\n"
      ]
    },
    {
      "cell_type": "markdown",
      "metadata": {
        "id": "9jIV4MzXVIpe"
      },
      "source": [
        "Next, let’s encode the Weight column (which is a feature) using the OrdinalEncoder class:\n"
      ]
    },
    {
      "cell_type": "code",
      "metadata": {
        "id": "TWBmSRR6VNo4"
      },
      "source": [
        "from sklearn.preprocessing import OrdinalEncoder\n",
        "oe = OrdinalEncoder(dtype=np.int)\n",
        "df[['Weight']]= oe.fit_transform(df[['Weight']])"
      ],
      "execution_count": null,
      "outputs": []
    },
    {
      "cell_type": "code",
      "metadata": {
        "colab": {
          "base_uri": "https://localhost:8080/",
          "height": 204
        },
        "id": "2vUBjDU0WErH",
        "outputId": "5776dcc4-6da2-47df-e0bc-945c1a75271b"
      },
      "source": [
        "df"
      ],
      "execution_count": null,
      "outputs": [
        {
          "output_type": "execute_result",
          "data": {
            "text/html": [
              "<div>\n",
              "<style scoped>\n",
              "    .dataframe tbody tr th:only-of-type {\n",
              "        vertical-align: middle;\n",
              "    }\n",
              "\n",
              "    .dataframe tbody tr th {\n",
              "        vertical-align: top;\n",
              "    }\n",
              "\n",
              "    .dataframe thead th {\n",
              "        text-align: right;\n",
              "    }\n",
              "</style>\n",
              "<table border=\"1\" class=\"dataframe\">\n",
              "  <thead>\n",
              "    <tr style=\"text-align: right;\">\n",
              "      <th></th>\n",
              "      <th>Color</th>\n",
              "      <th>Years</th>\n",
              "      <th>Strength</th>\n",
              "      <th>Height</th>\n",
              "      <th>Weight</th>\n",
              "      <th>Dangerous</th>\n",
              "    </tr>\n",
              "  </thead>\n",
              "  <tbody>\n",
              "    <tr>\n",
              "      <th>0</th>\n",
              "      <td>Green</td>\n",
              "      <td>2.30</td>\n",
              "      <td>210.00</td>\n",
              "      <td>170.00</td>\n",
              "      <td>2</td>\n",
              "      <td>1</td>\n",
              "    </tr>\n",
              "    <tr>\n",
              "      <th>1</th>\n",
              "      <td>Red</td>\n",
              "      <td>4.10</td>\n",
              "      <td>100.00</td>\n",
              "      <td>269.25</td>\n",
              "      <td>1</td>\n",
              "      <td>0</td>\n",
              "    </tr>\n",
              "    <tr>\n",
              "      <th>2</th>\n",
              "      <td>Blue</td>\n",
              "      <td>1.40</td>\n",
              "      <td>283.75</td>\n",
              "      <td>412.00</td>\n",
              "      <td>0</td>\n",
              "      <td>0</td>\n",
              "    </tr>\n",
              "    <tr>\n",
              "      <th>3</th>\n",
              "      <td>Green</td>\n",
              "      <td>3.25</td>\n",
              "      <td>313.00</td>\n",
              "      <td>123.00</td>\n",
              "      <td>1</td>\n",
              "      <td>1</td>\n",
              "    </tr>\n",
              "    <tr>\n",
              "      <th>4</th>\n",
              "      <td>Green</td>\n",
              "      <td>5.20</td>\n",
              "      <td>512.00</td>\n",
              "      <td>372.00</td>\n",
              "      <td>0</td>\n",
              "      <td>1</td>\n",
              "    </tr>\n",
              "  </tbody>\n",
              "</table>\n",
              "</div>"
            ],
            "text/plain": [
              "   Color  Years  Strength  Height  Weight  Dangerous\n",
              "0  Green   2.30    210.00  170.00       2          1\n",
              "1    Red   4.10    100.00  269.25       1          0\n",
              "2   Blue   1.40    283.75  412.00       0          0\n",
              "3  Green   3.25    313.00  123.00       1          1\n",
              "4  Green   5.20    512.00  372.00       0          1"
            ]
          },
          "metadata": {},
          "execution_count": 14
        }
      ]
    },
    {
      "cell_type": "markdown",
      "metadata": {
        "id": "lFenREhdZbRH"
      },
      "source": [
        "What is we wanted to encode the Color?\n",
        "\n",
        "However, one problem with such a simple approach is that it suggests a relationship between the categories that may not exist in reality.\n",
        "For instance, our df DataFrame has a Color column with three values – “Green”, “Red”, and “Blue”. The OrdinalEncoder class encodes categories in alphabetical order. Hence, “Blue” will be encoded as 0, “Green” as 1, and “Red” as 2."
      ]
    },
    {
      "cell_type": "code",
      "metadata": {
        "colab": {
          "base_uri": "https://localhost:8080/"
        },
        "id": "wpMNLnIoZqhu",
        "outputId": "8cbecb81-2783-4cbb-8a6d-15b402676550"
      },
      "source": [
        "from sklearn.preprocessing import OneHotEncoder\n",
        "ohe = OneHotEncoder(dtype=np.int, sparse = False, drop='first')\n",
        "color_encoded = ohe.fit_transform(df[['Color']])\n",
        "df2 = pd.DataFrame(color_encoded, columns = ohe.get_feature_names())\n",
        "df = pd.concat((df, df2), axis = 1)\n"
      ],
      "execution_count": null,
      "outputs": [
        {
          "output_type": "stream",
          "name": "stderr",
          "text": [
            "/usr/local/lib/python3.7/dist-packages/sklearn/utils/deprecation.py:87: FutureWarning: Function get_feature_names is deprecated; get_feature_names is deprecated in 1.0 and will be removed in 1.2. Please use get_feature_names_out instead.\n",
            "  warnings.warn(msg, category=FutureWarning)\n"
          ]
        }
      ]
    },
    {
      "cell_type": "markdown",
      "metadata": {
        "id": "JjcdibNfZ0Hd"
      },
      "source": [
        "\n",
        "\n",
        "1.   Here, we first import the OneHotEncoder class from the sklearn.preprocessing module. \n",
        "2.   We initialize a OneHotEncoder object called ohe . We’ve explained the dtype and sparse parameters previously. However, notice that we also pass drop='first' to the constructor; we’ll explain this parameter later.\n",
        "3.   After instantiating ohe , we use it to call the fit_transform() method, passing df[['Color']] as input to the method.\n",
        "4.  Next. we store the resulting array in a variable called color_encoded and convert this array to a DataFrame ( df2 ) on the next line.\n",
        "5. To name the columns in df2 , we use the get_feature_names() method in the OneHotEncoder class. This method returns the names of the columns returned by the fit_transform() method.\n",
        "6. Finally, we add df2 to our original DataFrame using the concat() method in pandas. This method works like the concatenate() function in NumPy.\n",
        "\n",
        "\n",
        "\n",
        "\n"
      ]
    },
    {
      "cell_type": "code",
      "metadata": {
        "colab": {
          "base_uri": "https://localhost:8080/",
          "height": 204
        },
        "id": "UHrRlAzIZuF4",
        "outputId": "c765848e-1f5f-47a5-d283-9511637a0005"
      },
      "source": [
        "df"
      ],
      "execution_count": null,
      "outputs": [
        {
          "output_type": "execute_result",
          "data": {
            "text/html": [
              "<div>\n",
              "<style scoped>\n",
              "    .dataframe tbody tr th:only-of-type {\n",
              "        vertical-align: middle;\n",
              "    }\n",
              "\n",
              "    .dataframe tbody tr th {\n",
              "        vertical-align: top;\n",
              "    }\n",
              "\n",
              "    .dataframe thead th {\n",
              "        text-align: right;\n",
              "    }\n",
              "</style>\n",
              "<table border=\"1\" class=\"dataframe\">\n",
              "  <thead>\n",
              "    <tr style=\"text-align: right;\">\n",
              "      <th></th>\n",
              "      <th>Color</th>\n",
              "      <th>Years</th>\n",
              "      <th>Strength</th>\n",
              "      <th>Height</th>\n",
              "      <th>Weight</th>\n",
              "      <th>Dangerous</th>\n",
              "      <th>x0_Green</th>\n",
              "      <th>x0_Red</th>\n",
              "    </tr>\n",
              "  </thead>\n",
              "  <tbody>\n",
              "    <tr>\n",
              "      <th>0</th>\n",
              "      <td>Green</td>\n",
              "      <td>2.30</td>\n",
              "      <td>210.00</td>\n",
              "      <td>170.00</td>\n",
              "      <td>2</td>\n",
              "      <td>1</td>\n",
              "      <td>1</td>\n",
              "      <td>0</td>\n",
              "    </tr>\n",
              "    <tr>\n",
              "      <th>1</th>\n",
              "      <td>Red</td>\n",
              "      <td>4.10</td>\n",
              "      <td>100.00</td>\n",
              "      <td>269.25</td>\n",
              "      <td>1</td>\n",
              "      <td>0</td>\n",
              "      <td>0</td>\n",
              "      <td>1</td>\n",
              "    </tr>\n",
              "    <tr>\n",
              "      <th>2</th>\n",
              "      <td>Blue</td>\n",
              "      <td>1.40</td>\n",
              "      <td>283.75</td>\n",
              "      <td>412.00</td>\n",
              "      <td>0</td>\n",
              "      <td>0</td>\n",
              "      <td>0</td>\n",
              "      <td>0</td>\n",
              "    </tr>\n",
              "    <tr>\n",
              "      <th>3</th>\n",
              "      <td>Green</td>\n",
              "      <td>3.25</td>\n",
              "      <td>313.00</td>\n",
              "      <td>123.00</td>\n",
              "      <td>1</td>\n",
              "      <td>1</td>\n",
              "      <td>1</td>\n",
              "      <td>0</td>\n",
              "    </tr>\n",
              "    <tr>\n",
              "      <th>4</th>\n",
              "      <td>Green</td>\n",
              "      <td>5.20</td>\n",
              "      <td>512.00</td>\n",
              "      <td>372.00</td>\n",
              "      <td>0</td>\n",
              "      <td>1</td>\n",
              "      <td>1</td>\n",
              "      <td>0</td>\n",
              "    </tr>\n",
              "  </tbody>\n",
              "</table>\n",
              "</div>"
            ],
            "text/plain": [
              "   Color  Years  Strength  Height  Weight  Dangerous  x0_Green  x0_Red\n",
              "0  Green   2.30    210.00  170.00       2          1         1       0\n",
              "1    Red   4.10    100.00  269.25       1          0         0       1\n",
              "2   Blue   1.40    283.75  412.00       0          0         0       0\n",
              "3  Green   3.25    313.00  123.00       1          1         1       0\n",
              "4  Green   5.20    512.00  372.00       0          1         1       0"
            ]
          },
          "metadata": {},
          "execution_count": 16
        }
      ]
    },
    {
      "cell_type": "markdown",
      "metadata": {
        "id": "3ZHK5ry08z7y"
      },
      "source": [
        "**FEATURE SCALING**"
      ]
    },
    {
      "cell_type": "code",
      "metadata": {
        "colab": {
          "base_uri": "https://localhost:8080/",
          "height": 204
        },
        "id": "KuvPPkFg9szJ",
        "outputId": "6a1d047a-341f-4541-95c7-e6833eb6fc57"
      },
      "source": [
        "from sklearn.preprocessing import MinMaxScaler\n",
        "mms = MinMaxScaler()\n",
        "df[['Years']] = mms.fit_transform(df[['Years']])\n",
        "df"
      ],
      "execution_count": null,
      "outputs": [
        {
          "output_type": "execute_result",
          "data": {
            "text/html": [
              "<div>\n",
              "<style scoped>\n",
              "    .dataframe tbody tr th:only-of-type {\n",
              "        vertical-align: middle;\n",
              "    }\n",
              "\n",
              "    .dataframe tbody tr th {\n",
              "        vertical-align: top;\n",
              "    }\n",
              "\n",
              "    .dataframe thead th {\n",
              "        text-align: right;\n",
              "    }\n",
              "</style>\n",
              "<table border=\"1\" class=\"dataframe\">\n",
              "  <thead>\n",
              "    <tr style=\"text-align: right;\">\n",
              "      <th></th>\n",
              "      <th>Color</th>\n",
              "      <th>Years</th>\n",
              "      <th>Strength</th>\n",
              "      <th>Height</th>\n",
              "      <th>Weight</th>\n",
              "      <th>Dangerous</th>\n",
              "      <th>x0_Green</th>\n",
              "      <th>x0_Red</th>\n",
              "    </tr>\n",
              "  </thead>\n",
              "  <tbody>\n",
              "    <tr>\n",
              "      <th>0</th>\n",
              "      <td>Green</td>\n",
              "      <td>0.236842</td>\n",
              "      <td>210.00</td>\n",
              "      <td>170.00</td>\n",
              "      <td>2</td>\n",
              "      <td>1</td>\n",
              "      <td>1</td>\n",
              "      <td>0</td>\n",
              "    </tr>\n",
              "    <tr>\n",
              "      <th>1</th>\n",
              "      <td>Red</td>\n",
              "      <td>0.710526</td>\n",
              "      <td>100.00</td>\n",
              "      <td>269.25</td>\n",
              "      <td>1</td>\n",
              "      <td>0</td>\n",
              "      <td>0</td>\n",
              "      <td>1</td>\n",
              "    </tr>\n",
              "    <tr>\n",
              "      <th>2</th>\n",
              "      <td>Blue</td>\n",
              "      <td>0.000000</td>\n",
              "      <td>283.75</td>\n",
              "      <td>412.00</td>\n",
              "      <td>0</td>\n",
              "      <td>0</td>\n",
              "      <td>0</td>\n",
              "      <td>0</td>\n",
              "    </tr>\n",
              "    <tr>\n",
              "      <th>3</th>\n",
              "      <td>Green</td>\n",
              "      <td>0.486842</td>\n",
              "      <td>313.00</td>\n",
              "      <td>123.00</td>\n",
              "      <td>1</td>\n",
              "      <td>1</td>\n",
              "      <td>1</td>\n",
              "      <td>0</td>\n",
              "    </tr>\n",
              "    <tr>\n",
              "      <th>4</th>\n",
              "      <td>Green</td>\n",
              "      <td>1.000000</td>\n",
              "      <td>512.00</td>\n",
              "      <td>372.00</td>\n",
              "      <td>0</td>\n",
              "      <td>1</td>\n",
              "      <td>1</td>\n",
              "      <td>0</td>\n",
              "    </tr>\n",
              "  </tbody>\n",
              "</table>\n",
              "</div>"
            ],
            "text/plain": [
              "   Color     Years  Strength  Height  Weight  Dangerous  x0_Green  x0_Red\n",
              "0  Green  0.236842    210.00  170.00       2          1         1       0\n",
              "1    Red  0.710526    100.00  269.25       1          0         0       1\n",
              "2   Blue  0.000000    283.75  412.00       0          0         0       0\n",
              "3  Green  0.486842    313.00  123.00       1          1         1       0\n",
              "4  Green  1.000000    512.00  372.00       0          1         1       0"
            ]
          },
          "metadata": {},
          "execution_count": 17
        }
      ]
    },
    {
      "cell_type": "markdown",
      "metadata": {
        "id": "GGoYFKJ8_KVJ"
      },
      "source": [
        "You can see the years have been transform. Now, try to transform the Height and Weight"
      ]
    },
    {
      "cell_type": "code",
      "metadata": {
        "colab": {
          "base_uri": "https://localhost:8080/",
          "height": 204
        },
        "id": "4vcQTiSA_Tru",
        "outputId": "bbd14ccd-c3aa-4d16-ba67-38282332bd10"
      },
      "source": [
        "from sklearn.preprocessing import MinMaxScaler\n",
        "mms = MinMaxScaler()\n",
        "df[['Strength', 'Height']] = mms.fit_transform(df[['Strength', 'Height']])\n",
        "df"
      ],
      "execution_count": null,
      "outputs": [
        {
          "output_type": "execute_result",
          "data": {
            "text/html": [
              "<div>\n",
              "<style scoped>\n",
              "    .dataframe tbody tr th:only-of-type {\n",
              "        vertical-align: middle;\n",
              "    }\n",
              "\n",
              "    .dataframe tbody tr th {\n",
              "        vertical-align: top;\n",
              "    }\n",
              "\n",
              "    .dataframe thead th {\n",
              "        text-align: right;\n",
              "    }\n",
              "</style>\n",
              "<table border=\"1\" class=\"dataframe\">\n",
              "  <thead>\n",
              "    <tr style=\"text-align: right;\">\n",
              "      <th></th>\n",
              "      <th>Color</th>\n",
              "      <th>Years</th>\n",
              "      <th>Strength</th>\n",
              "      <th>Height</th>\n",
              "      <th>Weight</th>\n",
              "      <th>Dangerous</th>\n",
              "      <th>x0_Green</th>\n",
              "      <th>x0_Red</th>\n",
              "    </tr>\n",
              "  </thead>\n",
              "  <tbody>\n",
              "    <tr>\n",
              "      <th>0</th>\n",
              "      <td>Green</td>\n",
              "      <td>0.236842</td>\n",
              "      <td>0.266990</td>\n",
              "      <td>0.162630</td>\n",
              "      <td>2</td>\n",
              "      <td>1</td>\n",
              "      <td>1</td>\n",
              "      <td>0</td>\n",
              "    </tr>\n",
              "    <tr>\n",
              "      <th>1</th>\n",
              "      <td>Red</td>\n",
              "      <td>0.710526</td>\n",
              "      <td>0.000000</td>\n",
              "      <td>0.506055</td>\n",
              "      <td>1</td>\n",
              "      <td>0</td>\n",
              "      <td>0</td>\n",
              "      <td>1</td>\n",
              "    </tr>\n",
              "    <tr>\n",
              "      <th>2</th>\n",
              "      <td>Blue</td>\n",
              "      <td>0.000000</td>\n",
              "      <td>0.445995</td>\n",
              "      <td>1.000000</td>\n",
              "      <td>0</td>\n",
              "      <td>0</td>\n",
              "      <td>0</td>\n",
              "      <td>0</td>\n",
              "    </tr>\n",
              "    <tr>\n",
              "      <th>3</th>\n",
              "      <td>Green</td>\n",
              "      <td>0.486842</td>\n",
              "      <td>0.516990</td>\n",
              "      <td>0.000000</td>\n",
              "      <td>1</td>\n",
              "      <td>1</td>\n",
              "      <td>1</td>\n",
              "      <td>0</td>\n",
              "    </tr>\n",
              "    <tr>\n",
              "      <th>4</th>\n",
              "      <td>Green</td>\n",
              "      <td>1.000000</td>\n",
              "      <td>1.000000</td>\n",
              "      <td>0.861592</td>\n",
              "      <td>0</td>\n",
              "      <td>1</td>\n",
              "      <td>1</td>\n",
              "      <td>0</td>\n",
              "    </tr>\n",
              "  </tbody>\n",
              "</table>\n",
              "</div>"
            ],
            "text/plain": [
              "   Color     Years  Strength    Height  Weight  Dangerous  x0_Green  x0_Red\n",
              "0  Green  0.236842  0.266990  0.162630       2          1         1       0\n",
              "1    Red  0.710526  0.000000  0.506055       1          0         0       1\n",
              "2   Blue  0.000000  0.445995  1.000000       0          0         0       0\n",
              "3  Green  0.486842  0.516990  0.000000       1          1         1       0\n",
              "4  Green  1.000000  1.000000  0.861592       0          1         1       0"
            ]
          },
          "metadata": {},
          "execution_count": 18
        }
      ]
    },
    {
      "cell_type": "markdown",
      "metadata": {
        "id": "8qvJsXX0LmJH"
      },
      "source": [
        "**Model Evaluation**"
      ]
    },
    {
      "cell_type": "code",
      "metadata": {
        "id": "L-9GX1qQLp0d"
      },
      "source": [
        "from sklearn.metrics import accuracy_score\n",
        "\n",
        "true = ['Cat', 'Cat', 'Dog', 'Dog', 'Cat', 'Dog']\n",
        "pred = ['Cat', 'Cat', 'Cat', 'Dog', 'Cat', 'Cat']\n",
        "\n",
        "score = accuracy_score(true, pred)\n",
        "print(score)"
      ],
      "execution_count": null,
      "outputs": []
    },
    {
      "cell_type": "code",
      "metadata": {
        "id": "HQriUw6dMi2d"
      },
      "source": [
        "from sklearn.metrics import precision_score, recall_score\n",
        "true = ['Cat', 'Cat', 'Dog', 'Dog', 'Cat', 'Dog']\n",
        "pred = ['Cat', 'Cat', 'Cat', 'Dog', 'Cat', 'Cat']\n",
        "\n",
        "precision = precision_score(true, pred, pos_label = 'Dog')\n",
        "recall = recall_score(true, pred, pos_label = 'Dog')\n",
        "\n",
        "print(precision)\n",
        "print(recall)"
      ],
      "execution_count": null,
      "outputs": []
    },
    {
      "cell_type": "code",
      "metadata": {
        "id": "xVPsiAOweIAl"
      },
      "source": [
        "from sklearn.metrics import r2_score, mean_squared_error\n",
        "pred = [2.1, 1.4, 5.6, 7.9]\n",
        "true = [2.5, 1.6, 5.1, 6.8]\n",
        "RMSE = mean_squared_error(true, pred, squared=False)\n",
        "r2 = r2_score(true, pred)\n",
        "print(RMSE)\n",
        "print(r2)"
      ],
      "execution_count": null,
      "outputs": []
    }
  ]
}